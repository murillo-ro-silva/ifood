{
 "cells": [
  {
   "cell_type": "code",
   "execution_count": 1,
   "metadata": {},
   "outputs": [],
   "source": [
    "import pyspark as pys\n",
    "import pyspark.sql.functions as sf\n",
    "import pyspark.sql as s\n",
    "import datetime as dt\n",
    "from pyspark import SparkContext\n",
    "import pyspark.sql.types as st\n",
    "import logging\n",
    "\n",
    "# Setup your credentials\n",
    "AWS_ACCESS_KEY=''\n",
    "AWS_SECRET_KEY=''\n",
    "\n",
    "MAX_MEMORY = \"5g\"\n",
    "\n",
    "spark = pys.sql.SparkSession.builder \\\n",
    "    .master('local[*]') \\\n",
    "    .config(\"spark.jars.packages\", \"com.amazonaws:aws-java-sdk:1.7.4,org.apache.hadoop:hadoop-aws:2.7.3\")\\\n",
    "    .config(\"spark.executor.memory\", MAX_MEMORY) \\\n",
    "    .config(\"spark.driver.memory\", MAX_MEMORY) \\\n",
    "    .getOrCreate()\n",
    "\n",
    "spark.sparkContext._jsc.hadoopConfiguration().set(\"fs.s3a.access.key\", AWS_ACCESS_KEY) \n",
    "spark.sparkContext._jsc.hadoopConfiguration().set(\"fs.s3a.secret.key\", AWS_SECRET_KEY)\n",
    "\n",
    "spark.conf.set(\"spark.sql.broadcastTimeout\", 1200)"
   ]
  },
  {
   "cell_type": "code",
   "execution_count": null,
   "metadata": {},
   "outputs": [],
   "source": [
    "transient_path = 's3a://ifood-data-architect-test-source/order.json.gz'"
   ]
  },
  {
   "cell_type": "code",
   "execution_count": null,
   "metadata": {},
   "outputs": [],
   "source": [
    "BASE_PATH_SOURCE='s3a://ifood-data-architect-test-source/'\n",
    "zone = 'raw'\n",
    "dataset_name = 'order'\n",
    "read_type = 'json'\n",
    "\n",
    "PATH = BASE_PATH_SOURCE + dataset_name + '.' + read_type + '.gz'\n",
    "PATH"
   ]
  },
  {
   "cell_type": "code",
   "execution_count": null,
   "metadata": {},
   "outputs": [],
   "source": [
    "transient_path = 's3a://ifood-data-architect-test-source/order.json.gz'\n",
    "\n",
    "TRANSIENT_READ = spark.read \\\n",
    "    .load(transient_path, format='json', header=True, infer_schema=True)"
   ]
  },
  {
   "cell_type": "code",
   "execution_count": null,
   "metadata": {},
   "outputs": [],
   "source": [
    "TRANSIENT_READ.show(1)"
   ]
  },
  {
   "cell_type": "code",
   "execution_count": null,
   "metadata": {},
   "outputs": [],
   "source": [
    "TRANSIENT_READ.count()"
   ]
  },
  {
   "cell_type": "code",
   "execution_count": null,
   "metadata": {},
   "outputs": [],
   "source": [
    "TRANSIENT_READ.printSchema()"
   ]
  },
  {
   "cell_type": "code",
   "execution_count": null,
   "metadata": {},
   "outputs": [],
   "source": [
    "TRANSIENT_READ.write \\\n",
    "  .mode('overwrite') \\\n",
    "  .parquet('s3a://ifood-data-architect-test-source-murillo/order')"
   ]
  },
  {
   "cell_type": "code",
   "execution_count": null,
   "metadata": {},
   "outputs": [],
   "source": [
    "READ = spark \\\n",
    "    .read \\\n",
    "    .format('json')  \\\n",
    "    .option('path', transient_path)\n",
    "\n",
    "READ.show(1)\n",
    "#    .withColumn('partition_column', sf.lit(PARTITION_DATE))"
   ]
  },
  {
   "cell_type": "code",
   "execution_count": null,
   "metadata": {},
   "outputs": [],
   "source": []
  },
  {
   "cell_type": "code",
   "execution_count": null,
   "metadata": {},
   "outputs": [],
   "source": [
    "def args_datasets_read_types(sys_args):\n",
    "    \"\"\" param sys_args: Receive all atributos from Glue UI param.\n",
    "        All datasets with \"--n_\" prefixes are being treating with datasets and read types.\n",
    "        e.g:\n",
    "            --n_consumer / csv.\n",
    "            --n_order / json\n",
    "            --n_....\n",
    "        return dict with datasets and read types.\n",
    "    \"\"\"\n",
    "    datasets_read_types = []\n",
    "    for liu in enumerate(sys_args):\n",
    "        if '--n_' in liu[1]:\n",
    "            dataset = liu[1][4:]\n",
    "            read_type = sys_args[liu[0]+1]\n",
    "            datasets_read_types.append([dataset, read_type])\n",
    "    return datasets_read_types\n"
   ]
  },
  {
   "cell_type": "code",
   "execution_count": 61,
   "metadata": {},
   "outputs": [],
   "source": [
    "def datetime_result(date_type):\n",
    "    \"\"\" Recover brazilian time.\n",
    "    \"\"\" \n",
    "    if date_type == 'today':\n",
    "        date_now = (dt.datetime.utcnow() - dt.timedelta(hours=3)).strftime('%Y-%m-%d')\n",
    "        return str(date_now)\n",
    "    if date_type == 'today_timestamp':\n",
    "        date_now = (dt.datetime.utcnow() - dt.timedelta(hours=3)).strftime('%Y-%m-%d %H:%M:%S')\n",
    "        return str(date_now)\n",
    "    else:\n",
    "        date_yesternoon = (dt.datetime.utcnow() - dt.timedelta(days=1)).strftime('%Y-%m-%d')\n",
    "        return str(date_yesternoon)"
   ]
  },
  {
   "cell_type": "code",
   "execution_count": null,
   "metadata": {},
   "outputs": [],
   "source": [
    "datetime_result('today_timestamp')"
   ]
  },
  {
   "cell_type": "code",
   "execution_count": null,
   "metadata": {},
   "outputs": [],
   "source": [
    "def path_read_write(zone, dataset_name, read_type):\n",
    "    \"\"\" \n",
    "        refurn absolute path.\n",
    "    \"\"\"\n",
    "    BASE_PATH_SOURCE='s3a://ifood-data-architect-test-source'\n",
    "    \n",
    "    if zone == 'source':\n",
    "        PATH = BASE_PATH_SOURCE + '/' + dataset_name + '.' + read_type + '.gz'\n",
    "    else:\n",
    "        PATH = BASE_PATH_SOURCE + '-murillo/' + zone + '/' + dataset_name\n",
    "        \n",
    "    return PATH"
   ]
  },
  {
   "cell_type": "code",
   "execution_count": null,
   "metadata": {},
   "outputs": [],
   "source": [
    "def read_dataset(zone, dataset_name, read_type):\n",
    "    \"\"\"\n",
    "        e.g:\n",
    "            Read json and csv from source repo, creating partition column setting now date.\n",
    "        return spark dataframe\n",
    "    \"\"\"\n",
    "    PARTITION_DATE = datetime_result('today')\n",
    "       \n",
    "    PATH = path_read_write(zone, dataset_name, read_type)\n",
    "    \n",
    "    READ = spark.read \\\n",
    "        .load(PATH, format=read_type, header=True, infer_schema=True) \\\n",
    "        .withColumn('partition_column', sf.lit(PARTITION_DATE))\n",
    "    \n",
    "    return READ"
   ]
  },
  {
   "cell_type": "code",
   "execution_count": null,
   "metadata": {},
   "outputs": [],
   "source": [
    "def write_dataset(zone, dataset_name, df):\n",
    "    \"\"\" param zone (transient/raw/refined/trusted)\n",
    "        param dataset_name\n",
    "        param df (spark dataframe)\n",
    "        e.g:\n",
    "            Write some data in .parquet extension, overwriting existing data inside the partition.\n",
    "        return spark dataframe\n",
    "    \"\"\"\n",
    "    \n",
    "    PATH = path_read_write(zone, dataset_name, '.parquet')\n",
    "    \n",
    "    df.write \\\n",
    "      .mode('overwrite') \\\n",
    "      .partitionBy('partition_column') \\\n",
    "      .parquet(PATH)"
   ]
  },
  {
   "cell_type": "code",
   "execution_count": null,
   "metadata": {},
   "outputs": [],
   "source": [
    "#teste1 = ['--n_order', 'json', '--n_restaurant', 'csv', '--n_status', 'json', '--n_status', 'csv', '--env', 'prd',]\n",
    "teste1 = ['--n_status', 'json', '--n_restaurant', 'csv']"
   ]
  },
  {
   "cell_type": "code",
   "execution_count": null,
   "metadata": {},
   "outputs": [],
   "source": [
    "for dataset_name, type_read in args_datasets_read_types(teste1):\n",
    "    \"\"\" Iterate from all datasets and read_types configurable.\n",
    "    \"\"\"\n",
    "    print('Load Transient:' + datetime_result('today_timestamp') + ' - Dataset: ' + dataset_name + ' - type_read: ' + type_read)\n",
    "    #logger.info('Load Transient:' + datetime_result('today_timestamp') + ' - type_read: ' + type_read + ' Dataset: ' + dataset)\n",
    "    df = read_dataset('source', dataset_name, type_read)\n",
    "    \n",
    "    print('Write Raw:' + datetime_result('today_timestamp') + ' - Dataset: ' + dataset_name + ' - type_read: ' + type_read)\n",
    "    #logger.info('Write Raw: ' + datetime_now() + ' - Namespace: ' + namespace + ' Dataset: ' + dataset)\n",
    "    write_dataset('raw', dataset_name, df)"
   ]
  },
  {
   "cell_type": "code",
   "execution_count": null,
   "metadata": {},
   "outputs": [],
   "source": []
  },
  {
   "cell_type": "code",
   "execution_count": null,
   "metadata": {},
   "outputs": [],
   "source": []
  },
  {
   "cell_type": "markdown",
   "metadata": {},
   "source": [
    "## Trusted"
   ]
  },
  {
   "cell_type": "code",
   "execution_count": null,
   "metadata": {},
   "outputs": [],
   "source": []
  },
  {
   "cell_type": "code",
   "execution_count": null,
   "metadata": {},
   "outputs": [],
   "source": []
  },
  {
   "cell_type": "code",
   "execution_count": null,
   "metadata": {},
   "outputs": [],
   "source": [
    "def hash_column(df, columns):\n",
    "    \"\"\"\n",
    "    Used to hash columns\n",
    "    :param df: :class:`pyspark.sql.DataFrame` instance\n",
    "    :param columns: list, columns to hash\n",
    "    :return df: :class:`pyspark.sql.DataFrame` instance\n",
    "    \"\"\"\n",
    "    salt = 'QglW6kADoUt8-FXIHQQsj3tK-Vpz6QaZ2DoCCQKEARM='\n",
    "    for column in columns:\n",
    "        df = df.withColumn(column, sf.trim(sf.col(column)))\n",
    "        df = df.withColumn(column, sf.concat(column, sf.lit(salt)))\n",
    "        df = df.withColumn(column, sf.sha2(column, 256))\n",
    "    return df\n",
    "\n",
    "@sf.udf\n",
    "def hash_tel(column):\n",
    "    return int(column) * 5 / 2 "
   ]
  },
  {
   "cell_type": "code",
   "execution_count": null,
   "metadata": {},
   "outputs": [],
   "source": [
    "local_path_order = '/home/murillo-silva/Documents/Projetos-Pessoais/Testes/ifood/database/raw/order'\n",
    "RAW_ORDER = spark.read \\\n",
    "    .load(local_path_order, format='parquet') \\\n",
    "    .drop(\"partition_column\",\"customer_name\") \\\n",
    "\n",
    "\n",
    "local_path_status = '/home/murillo-silva/Documents/Projetos-Pessoais/Testes/ifood/database/raw/status'\n",
    "RAW_STATUS = spark.read \\\n",
    "    .load(local_path_status, format='parquet') \\\n",
    "    .drop(\"partition_column\") \\\n",
    "    .withColumnRenamed(\"created_at\",\"status_created_at\") \\\n",
    "    .withColumnRenamed(\"value\", \"status_value\") \\\n",
    "\n",
    "\n",
    "local_path_consumer = '/home/murillo-silva/Documents/Projetos-Pessoais/Testes/ifood/database/raw/consumer'\n",
    "RAW_CONSUMER = spark.read \\\n",
    "    .load(local_path_consumer, format='parquet') \\\n",
    "    .drop(\"partition_column\",\"customer_name\") \\\n",
    "    .withColumnRenamed(\"created_at\",\"consumer_created_at\") \\\n",
    "    .withColumn(\"customer_phone_number\", hash_tel('customer_phone_number'))\n",
    "\n",
    "\n",
    "local_path_restaurant = '/home/murillo-silva/Documents/Projetos-Pessoais/Testes/ifood/database/raw/restaurant'\n",
    "RAW_RESTAURANT = spark.read \\\n",
    "    .load(local_path_restaurant, format='parquet') \\\n",
    "    .drop(\"partition_column\") \\\n",
    "    .withColumnRenamed(\"created_at\",\"restaurant_created_at\")"
   ]
  },
  {
   "cell_type": "code",
   "execution_count": null,
   "metadata": {},
   "outputs": [],
   "source": []
  },
  {
   "cell_type": "markdown",
   "metadata": {},
   "source": [
    "# Validação Order"
   ]
  },
  {
   "cell_type": "code",
   "execution_count": null,
   "metadata": {},
   "outputs": [],
   "source": [
    "RAW_ORDER.show(2,False)"
   ]
  },
  {
   "cell_type": "code",
   "execution_count": null,
   "metadata": {},
   "outputs": [],
   "source": [
    "RAW_ORDER.count()"
   ]
  },
  {
   "cell_type": "code",
   "execution_count": null,
   "metadata": {},
   "outputs": [],
   "source": [
    "RAW_ORDER.select('customer_id').distinct().count()"
   ]
  },
  {
   "cell_type": "code",
   "execution_count": null,
   "metadata": {},
   "outputs": [],
   "source": [
    "RAW_ORDER.select('order_id').distinct().count()"
   ]
  },
  {
   "cell_type": "code",
   "execution_count": null,
   "metadata": {},
   "outputs": [],
   "source": [
    "RAW_ORDER.select('order_id').groupBy('order_id').count().filter('count > 1').show(10,False)"
   ]
  },
  {
   "cell_type": "code",
   "execution_count": null,
   "metadata": {},
   "outputs": [],
   "source": [
    "RAW_ORDER.filter(\"order_id == '793770c3-16ba-4d81-a1aa-cd120d395162'\").show(10,False)"
   ]
  },
  {
   "cell_type": "code",
   "execution_count": null,
   "metadata": {},
   "outputs": [],
   "source": [
    "RAW_STATUS.show(10,False)"
   ]
  },
  {
   "cell_type": "code",
   "execution_count": null,
   "metadata": {},
   "outputs": [],
   "source": [
    "RAW_CONSUMER.show(10,False)"
   ]
  },
  {
   "cell_type": "code",
   "execution_count": null,
   "metadata": {},
   "outputs": [],
   "source": [
    "RAW_CONSUMER.count()"
   ]
  },
  {
   "cell_type": "code",
   "execution_count": null,
   "metadata": {},
   "outputs": [],
   "source": [
    "RAW_RESTAURANT.show(10,False)"
   ]
  },
  {
   "cell_type": "code",
   "execution_count": null,
   "metadata": {},
   "outputs": [],
   "source": [
    "new_order = RAW_ORDER.select(sf.length('cpf').alias('cpf')).groupby('cpf').agg(sf.max('cpf'))\n",
    "\n",
    "new_order.show(10,False)"
   ]
  },
  {
   "cell_type": "markdown",
   "metadata": {},
   "source": [
    "## Dedup"
   ]
  },
  {
   "cell_type": "code",
   "execution_count": null,
   "metadata": {},
   "outputs": [],
   "source": [
    "# Join Order + Consumer + Restaurant\n",
    "DF_PRIMARY = RAW_ORDER \\\n",
    "    .join(RAW_CONSUMER, 'customer_id') \\\n",
    "    .join(RAW_RESTAURANT, RAW_RESTAURANT.id == RAW_ORDER.merchant_id) \\\n",
    "\n",
    "## Order\n",
    "LAST_VALUE_ORDER = s.Window.partitionBy(\n",
    "    \"customer_id\") \\\n",
    "    .orderBy(sf.col(\"order_created_at\").desc())\n",
    "\n",
    "DF_TRUSTED_ORDER = DF_PRIMARY.dropDuplicates() \\\n",
    "    .withColumn(\"distinct\", sf.row_number().over(LAST_VALUE_ORDER)) \\\n",
    "    .filter(\"distinct = 1\") \\\n",
    "    .drop(\"distinct\")\n",
    "\n",
    "## Status\n",
    "LAST_VALUE_STATUS = s.Window.partitionBy(\n",
    "    \"order_id\") \\\n",
    "    .orderBy(sf.col(\"status_created_at\").desc())\n",
    "\n",
    "DF_TRUSTED_STATUS = RAW_STATUS.dropDuplicates() \\\n",
    "    .withColumn(\"distinct\", sf.row_number().over(LAST_VALUE_STATUS)) \\\n",
    "    .filter(\"distinct = 1\") \\\n",
    "    .drop(\"distinct\") \\\n",
    "    .select(\"order_id\", \"status_created_at\", \"status_value\")\n",
    "\n",
    "##\n",
    "DF_TRUSTED_FINAL = DF_TRUSTED_ORDER \\\n",
    "    .join(DF_TRUSTED_STATUS, \"order_id\") \\\n",
    "    .withColumn(\"restaurant_partition\", sf.date_format(\"restaurant_created_at\", \"yyyy-MM-dd\"))\n",
    "\n",
    "DF_TRUSTED_ANONYMIZED = hash_column(DF_TRUSTED_FINAL, ['cpf'])\n",
    "\n",
    "# DF_TRUSTED_ANONYMIZED.repartition(30).write.parquet(\"/home/murillo-silva/Documents/Projetos-Pessoais/Testes/ifood/database/trusted/order\", mode=\"overwrite\", partitionBy=\"restaurant_partition\")"
   ]
  },
  {
   "cell_type": "code",
   "execution_count": null,
   "metadata": {},
   "outputs": [],
   "source": [
    "DF_TRUSTED_ANONYMIZED.show(5,False)"
   ]
  },
  {
   "cell_type": "code",
   "execution_count": null,
   "metadata": {},
   "outputs": [],
   "source": []
  },
  {
   "cell_type": "code",
   "execution_count": null,
   "metadata": {},
   "outputs": [],
   "source": []
  },
  {
   "cell_type": "code",
   "execution_count": null,
   "metadata": {},
   "outputs": [],
   "source": []
  },
  {
   "cell_type": "code",
   "execution_count": null,
   "metadata": {},
   "outputs": [],
   "source": [
    "local_path_order = \"/home/murillo-silva/Documents/Projetos-Pessoais/Testes/ifood/database/trusted/order\"\n",
    "DF_TRUSTED = spark.read \\\n",
    "    .parquet(local_path_order) \\\n",
    "\n",
    "DF_TRUSTED.filter(\"order_id == 'ab0afdba-beeb-442b-918b-9e827532d4b1'\").show(20,False)"
   ]
  },
  {
   "cell_type": "code",
   "execution_count": null,
   "metadata": {},
   "outputs": [],
   "source": [
    "# Recover dynamic schema \n",
    "JSON_SCHEMA = spark.read \\\n",
    "    .json(DF_TRUSTED.rdd.map(lambda row: row.items)).schema\n",
    "\n",
    "JSON_SCHEMA = st.ArrayType(JSON_SCHEMA)\n",
    "\n",
    "DF_FLATTEN = DF_TRUSTED.withColumn(\"items\", sf.from_json(\"items\", JSON_SCHEMA))"
   ]
  },
  {
   "cell_type": "code",
   "execution_count": null,
   "metadata": {},
   "outputs": [],
   "source": [
    "DF_FLATTEN = DF_TRUSTED.withColumn(\"items\", sf.from_json(\"items\", JSON_SCHEMA))\n",
    "\n",
    "# DF_FLATTEN.show(1)"
   ]
  },
  {
   "cell_type": "code",
   "execution_count": null,
   "metadata": {},
   "outputs": [],
   "source": [
    "DF_EXPLODE_ITEMS = DF_FLATTEN.select(\n",
    "    \"order_id\",\n",
    "    sf.explode(\"items\").alias(\"items\"))\n",
    "\n",
    "DF_EXPLODE_ITEMS_DETAILS = DF_EXPLODE_ITEMS \\\n",
    "    .select(\"order_id\",\n",
    "            sf.col(\"items.name\").alias(\"name\"),\n",
    "            sf.col(\"items.addition\").getItem('currency').alias(\"addition_currency\"),\n",
    "            sf.col(\"items.addition\").getItem('value').alias(\"addition\"),\n",
    "            sf.col(\"items.discount\").getItem('currency').alias(\"discount_currency\"),\n",
    "            sf.col(\"items.discount\").getItem('value').alias(\"discount\"),\n",
    "            sf.col(\"items.quantity\").alias(\"quantity\"),\n",
    "            sf.col(\"items.unitPrice\").getItem('currency').alias(\"unit_price_currency\"),\n",
    "            sf.col(\"items.unitPrice\").getItem('value').alias(\"unit_price\"),\n",
    "            sf.col(\"items.externalId\").alias(\"external_id\"),\n",
    "            sf.col(\"items.totalValue\").getItem('currency').alias(\"total_value_currency\"),\n",
    "            sf.col(\"items.totalValue\").getItem('value').alias(\"total_value\"),\n",
    "            sf.col(\"items.customerNote\").alias(\"customer_note\"),\n",
    "            sf.col(\"items.integrationId\").alias(\"integration_id\"),\n",
    "            sf.col(\"items.totalAddition\").getItem('currency').alias(\"tota_addition_currency\"),\n",
    "            sf.col(\"items.totalAddition\").getItem('value').alias(\"tota_addition\"),\n",
    "            sf.col(\"items.totalDiscount\").getItem('currency').alias(\"total_discount_currency\"),\n",
    "            sf.col(\"items.totalDiscount\").getItem('value').alias(\"total_discount\"),\n",
    "            sf.explode(\"items.garnishItems.externalId\").alias(\"garnish_external_id\"),\n",
    "            sf.col(\"items.garnishItems\").alias(\"garnish_items\")\n",
    "            ) \\\n",
    "    .dropDuplicates()\n",
    "\n",
    "DF_EXPLODE_ITEMS_DETAILS.filter(\"order_id == 'ab0afdba-beeb-442b-918b-9e827532d4b1'\").show(10,False)"
   ]
  },
  {
   "cell_type": "code",
   "execution_count": null,
   "metadata": {},
   "outputs": [],
   "source": [
    "## Structure Garnish details\n",
    "DF_EXPLODE_GARNISH = DF_EXPLODE_ITEMS_DETAILS.select(\n",
    "    \"order_id\",\n",
    "    \"garnish_external_id\",\n",
    "    sf.explode(\"garnish_items\").alias(\"garnish_items\"))\n",
    "\n",
    "\n",
    "DF_EXPLODE_GARNISH_DETAIL = DF_EXPLODE_GARNISH \\\n",
    "    .select(\"order_id\",           \n",
    "            sf.col(\"garnish_items.name\").alias(\"garnish_name\"),\n",
    "            sf.col(\"garnish_items.addition\").getItem('value').alias(\"garnish_addition\"),\n",
    "            sf.col(\"garnish_items.addition\").getItem('currency').alias(\"garnish_addition_currency\"),\n",
    "            sf.col(\"garnish_items.discount\").getItem('value').alias(\"garnish_discount\"),\n",
    "            sf.col(\"garnish_items.discount\").getItem('currency').alias(\"garnish_discount_currency\"),\n",
    "            sf.col(\"garnish_items.quantity\").alias(\"garnish_quantity\"),\n",
    "            sf.col(\"garnish_items.sequence\").alias(\"garnish_sequence\"),\n",
    "            sf.col(\"garnish_items.unitPrice\").getItem('value').alias(\"garnish_unit_price\"),\n",
    "            sf.col(\"garnish_items.unitPrice\").getItem('currency').alias(\"garnish_unit_price_currency\"),\n",
    "            sf.col(\"garnish_items.categoryId\").alias(\"garnish_category_id\"),\n",
    "            sf.col(\"garnish_items.categoryName\").alias(\"garnish_category_name\"),\n",
    "            sf.col(\"garnish_items.externalId\").alias(\"garnish_external_id\"),\n",
    "            sf.col(\"garnish_items.totalValue\").getItem('value').alias(\"garnish_total_value\"),\n",
    "            sf.col(\"garnish_items.totalValue\").getItem('currency').alias(\"garnish_total_value_currency\"),\n",
    "            sf.col(\"garnish_items.integrationId\").alias(\"garnish_integration_id\"),\n",
    "            ) \\\n",
    "    .dropDuplicates()\n",
    "            \n",
    "\n",
    "## Union itens with garnish dataframe, \n",
    "## when 1 or more item can have 1 or more garnish.\n",
    "DF_UNION_ITENS_GARNISH = DF_EXPLODE_ITEMS_DETAILS \\\n",
    "    .join(DF_EXPLODE_GARNISH_DETAIL, [\"order_id\",\"garnish_external_id\"]) \\\n",
    "    .drop(\"garnish_items\")\n",
    "\n",
    "DF_UNION_ITENS_GARNISH.filter(\"order_id == 'ab0afdba-beeb-442b-918b-9e827532d4b1'\").show(1000,False)"
   ]
  },
  {
   "cell_type": "code",
   "execution_count": null,
   "metadata": {},
   "outputs": [],
   "source": [
    "DF_UNION_ITENS_GARNISH.repartition(20) \\\n",
    "    .write.parquet(\n",
    "        \"/home/murillo-silva/Documents/Projetos-Pessoais/Testes/ifood/database/trusted/order_items\", mode=\"overwrite\")"
   ]
  },
  {
   "cell_type": "code",
   "execution_count": null,
   "metadata": {},
   "outputs": [],
   "source": [
    "# DF_FLATTEN.select(\"items.name\").show()\n",
    "\n",
    "DF_FLATTEN = DF_FLATTEN \\\n",
    "    .withColumn(\"name\", sf.col(\"items.name\")) \\\n",
    "    .withColumn(\"addition\", sf.col(\"items.addition\").getItem('value')) \\\n",
    "    .withColumn(\"addition_currency\", sf.col(\"items.addition\").getItem('currency')) \\\n",
    "    .withColumn(\"discount\", sf.col(\"items.discount\").getItem('value')) \\\n",
    "    .withColumn(\"discount_currency\", sf.col(\"items.discount\").getItem('currency')) \\\n",
    "    .withColumn(\"quantity\", sf.col(\"items.quantity\")) \\\n",
    "    .withColumn(\"unit_price\", sf.col(\"items.unitPrice\").getItem('value')) \\\n",
    "    .withColumn(\"unit_currency\", sf.col(\"items.unitPrice\").getItem('currency')) \\\n",
    "    .withColumn(\"external_id\", sf.col(\"items.externalId\")) \\\n",
    "    .withColumn(\"total_value\", sf.col(\"items.totalValue\").getItem('value')) \\\n",
    "    .withColumn(\"total_value_currency\", sf.col(\"items.totalValue\").getItem('currency')) \\\n",
    "    .withColumn(\"customer_note\", sf.col(\"items.customerNote\")) \\\n",
    "    .withColumn(\"integration_id\", sf.col(\"items.integrationId\")) \\\n",
    "    .withColumn(\"total_addition\", sf.col(\"items.totalAddition\").getItem('value')) \\\n",
    "    .withColumn(\"total_addition_currency\", sf.col(\"items.totalAddition\").getItem('currency')) \\\n",
    "    .withColumn(\"total_discount\", sf.col(\"items.totalDiscount\").getItem('value')) \\\n",
    "    .withColumn(\"total_discount_currency\", sf.col(\"items.totalDiscount\").getItem('currency')) \\\n",
    "    .withColumn(\"garnish_items_name\", sf.col(\"items.garnishItems.name\")) \\\n",
    "    .withColumn(\"garnish_items_addition\", sf.col(\"items.garnishItems.addition\").getItem('value')) \\\n",
    "    .withColumn(\"garnish_items_addition_currency\", sf.col(\"items.garnishItems.addition\").getItem('currency')) \\\n",
    "    .withColumn(\"garnish_items_discount\", sf.col(\"items.garnishItems.discount\").getItem('value')) \\\n",
    "    .withColumn(\"garnish_items_discount_currency\", sf.col(\"items.garnishItems.discount\").getItem('currency')) \\\n",
    "    .withColumn(\"garnish_items_quantity\", sf.col(\"items.garnishItems.quantity\")) \\\n",
    "    .withColumn(\"garnish_items_sequence\", sf.col(\"items.garnishItems.sequence\")) \\\n",
    "    .withColumn(\"garnish_items_unit_price\", sf.col(\"items.garnishItems.unitPrice\").getItem('value')) \\\n",
    "    .withColumn(\"garnish_items_unit_price_currency\", sf.col(\"items.garnishItems.unitPrice\").getItem('currency')) \\\n",
    "    .withColumn(\"garnish_items_category_id\", sf.col(\"items.garnishItems.categoryId\")) \\\n",
    "    .withColumn(\"garnish_items_category_name\", sf.col(\"items.garnishItems.categoryName\")) \\\n",
    "    .withColumn(\"garnish_items_external_id\", sf.col(\"items.garnishItems.externalId\")) \\\n",
    "    .withColumn(\"garnish_items_total_value\", sf.col(\"items.garnishItems.totalValue\").getItem('value')) \\\n",
    "    .withColumn(\"garnish_items_total_value_currency\", sf.col(\"items.garnishItems.totalValue\").getItem('currency')) \\\n",
    "    .withColumn(\"garnish_items_integration_id\", sf.col(\"items.garnishItems.integrationId\")) \\\n",
    "\n",
    "\n",
    "# DF_FLATTEN.show(10,False)"
   ]
  },
  {
   "cell_type": "code",
   "execution_count": null,
   "metadata": {},
   "outputs": [],
   "source": [
    "DF_ORDER_ITEMS.repartition(30).write.parquet(\"/home/murillo-silva/Documents/Projetos-Pessoais/Testes/ifood/database/trusted/order\", mode=\"overwrite\", partitionBy=\"restaurant_partition\")"
   ]
  },
  {
   "cell_type": "code",
   "execution_count": null,
   "metadata": {},
   "outputs": [],
   "source": []
  },
  {
   "cell_type": "code",
   "execution_count": null,
   "metadata": {},
   "outputs": [],
   "source": []
  },
  {
   "cell_type": "code",
   "execution_count": null,
   "metadata": {},
   "outputs": [],
   "source": []
  },
  {
   "cell_type": "code",
   "execution_count": null,
   "metadata": {},
   "outputs": [],
   "source": [
    "RAW_STATUS.show(5,False)"
   ]
  },
  {
   "cell_type": "code",
   "execution_count": null,
   "metadata": {},
   "outputs": [],
   "source": [
    "RAW_ORDER.show(1,False)"
   ]
  },
  {
   "cell_type": "code",
   "execution_count": null,
   "metadata": {},
   "outputs": [],
   "source": [
    "### Or"
   ]
  },
  {
   "cell_type": "code",
   "execution_count": null,
   "metadata": {},
   "outputs": [],
   "source": [
    "local_path_order = \"/home/murillo-silva/Documents/Projetos-Pessoais/Testes/ifood/database/trusted/order\"\n",
    "DF_ORDER_STATUSES = spark.read \\\n",
    "    .parquet(local_path_order) \\"
   ]
  },
  {
   "cell_type": "code",
   "execution_count": null,
   "metadata": {},
   "outputs": [],
   "source": [
    "local_path_status = '/home/murillo-silva/Documents/Projetos-Pessoais/Testes/ifood/database/raw/status'\n",
    "RAW_STATUS = spark.read \\\n",
    "    .load(local_path_status, format='parquet') \\\n",
    "    .drop(\"partition_column\") \\\n",
    "    .withColumnRenamed(\"created_at\",\"status_created_at\") \\\n",
    "    .withColumnRenamed(\"value\", \"status_value\") \\"
   ]
  },
  {
   "cell_type": "code",
   "execution_count": null,
   "metadata": {},
   "outputs": [],
   "source": [
    "DF_ORDER_STATUSES.createOrReplaceTempView(\"status\")\n",
    "RAW_ORDER.createOrReplaceTempView(\"order\")"
   ]
  },
  {
   "cell_type": "code",
   "execution_count": null,
   "metadata": {},
   "outputs": [],
   "source": [
    "df_status_order = spark.sql(\"\"\"\n",
    "select  ord.order_id,\n",
    "        st1.status_value status_1,\n",
    "        st1.status_created_at status_created_at_1,\n",
    "        st2.status_value status_2,\n",
    "        st2.status_created_at status_created_at_2,\n",
    "        st3.status_value status_3,\n",
    "        st3.status_created_at status_created_at_3,\n",
    "        st4.status_value status_4,\n",
    "        st4.status_created_at status_created_at_4\n",
    "from order ord\n",
    "inner join (select status_created_at, status_value, order_id\n",
    "             from status\n",
    "            where status_value = 'REGISTERED') st1 on st1.order_id = ord.order_id\n",
    "            \n",
    "left join (select status_created_at, status_value, order_id\n",
    "             from status\n",
    "            where status_value = 'PLACED') st2 on st2.order_id = st1.order_id\n",
    "            \n",
    "left join (select status_created_at, status_value, order_id\n",
    "             from status\n",
    "            where status_value = 'CONCLUDED') st3 on st3.order_id = st2.order_id\n",
    "      \n",
    "left join (select status_created_at, status_value, order_id\n",
    "             from status\n",
    "            where status_value = 'CANCELLED') st4 on st4.order_id = st3.order_id\n",
    "\"\"\").dropDuplicates()"
   ]
  },
  {
   "cell_type": "code",
   "execution_count": null,
   "metadata": {},
   "outputs": [],
   "source": []
  },
  {
   "cell_type": "code",
   "execution_count": null,
   "metadata": {},
   "outputs": [],
   "source": []
  },
  {
   "cell_type": "code",
   "execution_count": null,
   "metadata": {},
   "outputs": [],
   "source": []
  },
  {
   "cell_type": "code",
   "execution_count": null,
   "metadata": {},
   "outputs": [],
   "source": []
  },
  {
   "cell_type": "code",
   "execution_count": 36,
   "metadata": {},
   "outputs": [],
   "source": [
    "def hash_column(df, columns):\n",
    "    \"\"\"\n",
    "    Used to hash columns\n",
    "    :param df: :class:`pyspark.sql.DataFrame` instance\n",
    "    :param columns: list, columns to hash\n",
    "    :return df: :class:`pyspark.sql.DataFrame` instance\n",
    "    \"\"\"\n",
    "    salt = 'QglW6kADoUt8-FXIHQQsj3tK-Vpz6QaZ2DoCCQKEARM='\n",
    "    for column in columns:\n",
    "        df = df.withColumn(column, sf.trim(sf.col(column)))\n",
    "        df = df.withColumn(column, sf.concat(column, sf.lit(salt)))\n",
    "        df = df.withColumn(column, sf.sha2(column, 256))\n",
    "    return df\n",
    "\n",
    "@sf.udf\n",
    "def hash_tel(column):\n",
    "    return int(column) * 5 / 2 "
   ]
  },
  {
   "cell_type": "code",
   "execution_count": 132,
   "metadata": {},
   "outputs": [],
   "source": [
    "def path_read_write(zone, dataset_name):\n",
    "    \"\"\"\n",
    "        refurn absolute bucket path.\n",
    "    \"\"\"\n",
    "    BASE_PATH_SOURCE='s3://ifood-data-architect-test-source'\n",
    "\n",
    "    PATH = BASE_PATH_SOURCE + '/' + zone + '/' + dataset_name\n",
    "    \n",
    "    return PATH"
   ]
  },
  {
   "cell_type": "code",
   "execution_count": 133,
   "metadata": {},
   "outputs": [
    {
     "data": {
      "text/plain": [
       "'s3://ifood-data-architect-test-source/raw/order'"
      ]
     },
     "execution_count": 133,
     "metadata": {},
     "output_type": "execute_result"
    }
   ],
   "source": [
    "path_read_write(\"raw\", \"order\")"
   ]
  },
  {
   "cell_type": "code",
   "execution_count": 37,
   "metadata": {},
   "outputs": [],
   "source": [
    "local_path_order = '/home/murillo-silva/Documents/Projetos-Pessoais/Testes/ifood/database/raw/order'\n",
    "RAW_ORDER = spark.read \\\n",
    "    .load(local_path_order, format='parquet') \\\n",
    "    .drop(\"partition_column\",\"customer_name\") \\\n",
    "\n",
    "\n",
    "local_path_status = '/home/murillo-silva/Documents/Projetos-Pessoais/Testes/ifood/database/raw/status'\n",
    "RAW_STATUS = spark.read \\\n",
    "    .load(local_path_status, format='parquet') \\\n",
    "    .drop(\"partition_column\") \\\n",
    "    .withColumnRenamed(\"created_at\",\"status_created_at\") \\\n",
    "    .withColumnRenamed(\"value\", \"status_value\") \\\n",
    "\n",
    "\n",
    "local_path_consumer = '/home/murillo-silva/Documents/Projetos-Pessoais/Testes/ifood/database/raw/consumer'\n",
    "RAW_CONSUMER = spark.read \\\n",
    "    .load(local_path_consumer, format='parquet') \\\n",
    "    .drop(\"partition_column\",\"customer_name\") \\\n",
    "    .withColumnRenamed(\"created_at\",\"consumer_created_at\") \\\n",
    "    .withColumn(\"customer_phone_number\", hash_tel('customer_phone_number'))\n",
    "\n",
    "\n",
    "local_path_restaurant = '/home/murillo-silva/Documents/Projetos-Pessoais/Testes/ifood/database/raw/restaurant'\n",
    "RAW_RESTAURANT = spark.read \\\n",
    "    .load(local_path_restaurant, format='parquet') \\\n",
    "    .drop(\"partition_column\") \\\n",
    "    .withColumnRenamed(\"created_at\",\"restaurant_created_at\")"
   ]
  },
  {
   "cell_type": "code",
   "execution_count": 38,
   "metadata": {},
   "outputs": [],
   "source": [
    "def dedup_dataframe(pk_col, max_col, dataframe):\n",
    "    \n",
    "    LAST_VALUE_ORDER = s.Window.partitionBy(\n",
    "        pk_col) \\\n",
    "        .orderBy(sf.col(max_col).desc())\n",
    "\n",
    "    DF_DEDUP = dataframe.dropDuplicates() \\\n",
    "        .withColumn(\"distinct\", sf.row_number().over(LAST_VALUE_ORDER)) \\\n",
    "        .filter(\"distinct = 1\") \\\n",
    "        .drop(\"distinct\")\n",
    "    \n",
    "    return DF_DEDUP"
   ]
  },
  {
   "cell_type": "code",
   "execution_count": 54,
   "metadata": {},
   "outputs": [],
   "source": [
    "def write_trusted(dataframe, repartition, partition, dataset):\n",
    "    \n",
    "    PATH = path_read_write(\"trusted\",dataset)\n",
    "\n",
    "    dataframe.repartition(repartition).write \\\n",
    "    .parquet(PATH,\n",
    "             mode=\"overwrite\",\n",
    "             partitionBy=partition)"
   ]
  },
  {
   "cell_type": "code",
   "execution_count": null,
   "metadata": {},
   "outputs": [],
   "source": [
    "def trusted_order():\n",
    "\n",
    "    # Join Order + Consumer + Restaurant\n",
    "    DF_PRIMARY = RAW_ORDER \\\n",
    "        .join(RAW_CONSUMER, 'customer_id') \\\n",
    "        .join(RAW_RESTAURANT, RAW_RESTAURANT.id == RAW_ORDER.merchant_id).limit(1000)\n",
    "\n",
    "    ## Order\n",
    "#     LAST_VALUE_ORDER = s.Window.partitionBy(\n",
    "#         \"customer_id\") \\\n",
    "#         .orderBy(sf.col(\"order_created_at\").desc())\n",
    "\n",
    "#     DF_TRUSTED_ORDER = DF_PRIMARY.dropDuplicates() \\\n",
    "#         .withColumn(\"distinct\", sf.row_number().over(LAST_VALUE_ORDER)) \\\n",
    "#         .filter(\"distinct = 1\") \\\n",
    "#         .drop(\"distinct\")\n",
    "\n",
    "    ## Status\n",
    "#     LAST_VALUE_STATUS = s.Window.partitionBy(\n",
    "#         \"order_id\") \\\n",
    "#         .orderBy(sf.col(\"status_created_at\").desc())\n",
    "\n",
    "#     DF_TRUSTED_STATUS = RAW_STATUS.dropDuplicates() \\\n",
    "#         .withColumn(\"distinct\", sf.row_number().over(LAST_VALUE_STATUS)) \\\n",
    "#         .filter(\"distinct = 1\") \\\n",
    "#         .drop(\"distinct\") \\\n",
    "#         .select(\"order_id\", \"status_created_at\", \"status_value\")\n",
    "    \n",
    "    DF_TRUSTED_ORDER = dedup_dataframe(\"customer_id\", \"order_created_at\", DF_PRIMARY)\n",
    "    \n",
    "    DF_TRUSTED_STATUS = dedup_dataframe(\"order_id\", \"status_created_at\", RAW_STATUS) \\\n",
    "        .select(\"order_id\", \"status_created_at\", \"status_value\")\n",
    "    \n",
    "    ## Join\n",
    "    DF_TRUSTED_FINAL = DF_TRUSTED_ORDER \\\n",
    "        .join(DF_TRUSTED_STATUS, \"order_id\") \\\n",
    "        .withColumn(\"partition\", sf.lit(datetime_result(\"today\")))\n",
    "\n",
    "    DF_TRUSTED_ANONYMIZED = hash_column(DF_TRUSTED_FINAL, ['cpf'])\n",
    "    \n",
    "    # Write DF in trusted zone.\n",
    "    write_trusted(DF_TRUSTED_ANONYMIZED, 30, \"restaurant_partition\", \"order\")\n",
    "\n",
    "#     DF_TRUSTED_ANONYMIZED.repartition(30).write \\\n",
    "#         .parquet(\"/home/murillo-silva/Documents/Projetos-Pessoais/Testes/ifood/database/trusted/order\",\n",
    "#                  mode=\"overwrite\",\n",
    "#                  partitionBy=\"restaurant_partition\")"
   ]
  },
  {
   "cell_type": "code",
   "execution_count": null,
   "metadata": {},
   "outputs": [],
   "source": [
    "trusted_order()"
   ]
  },
  {
   "cell_type": "code",
   "execution_count": null,
   "metadata": {},
   "outputs": [],
   "source": [
    "def trusted_order_items():\n",
    "    \n",
    "    local_path_order = \"/home/murillo-silva/Documents/Projetos-Pessoais/Testes/ifood/database/trusted/order\"\n",
    "    DF_TRUSTED = spark.read \\\n",
    "        .parquet(local_path_order)\n",
    "\n",
    "    # Recover dynamic schema \n",
    "    JSON_SCHEMA = spark.read \\\n",
    "        .json(DF_TRUSTED.rdd.map(lambda row: row.items)).schema\n",
    "\n",
    "    JSON_SCHEMA = st.ArrayType(JSON_SCHEMA)\n",
    "    DF_FLATTEN = DF_TRUSTED.withColumn(\"items\", sf.from_json(\"items\", JSON_SCHEMA))\n",
    "    \n",
    "    # Explode and struturing Items for construct Order Items\n",
    "    DF_EXPLODE_ITEMS = DF_FLATTEN.select(\n",
    "        \"order_id\",\n",
    "        sf.explode(\"items\").alias(\"items\"))\n",
    "\n",
    "    DF_EXPLODE_ITEMS_DETAILS = DF_EXPLODE_ITEMS \\\n",
    "        .select(\"order_id\",\n",
    "                sf.col(\"items.name\").alias(\"name\"),\n",
    "                sf.col(\"items.addition\").getItem('currency').alias(\"addition_currency\"),\n",
    "                sf.col(\"items.addition\").getItem('value').alias(\"addition\"),\n",
    "                sf.col(\"items.discount\").getItem('currency').alias(\"discount_currency\"),\n",
    "                sf.col(\"items.discount\").getItem('value').alias(\"discount\"),\n",
    "                sf.col(\"items.quantity\").alias(\"quantity\"),\n",
    "                sf.col(\"items.unitPrice\").getItem('currency').alias(\"unit_price_currency\"),\n",
    "                sf.col(\"items.unitPrice\").getItem('value').alias(\"unit_price\"),\n",
    "                sf.col(\"items.externalId\").alias(\"external_id\"),\n",
    "                sf.col(\"items.totalValue\").getItem('currency').alias(\"total_value_currency\"),\n",
    "                sf.col(\"items.totalValue\").getItem('value').alias(\"total_value\"),\n",
    "                sf.col(\"items.customerNote\").alias(\"customer_note\"),\n",
    "                sf.col(\"items.integrationId\").alias(\"integration_id\"),\n",
    "                sf.col(\"items.totalAddition\").getItem('currency').alias(\"tota_addition_currency\"),\n",
    "                sf.col(\"items.totalAddition\").getItem('value').alias(\"tota_addition\"),\n",
    "                sf.col(\"items.totalDiscount\").getItem('currency').alias(\"total_discount_currency\"),\n",
    "                sf.col(\"items.totalDiscount\").getItem('value').alias(\"total_discount\"),\n",
    "                sf.explode(\"items.garnishItems.externalId\").alias(\"garnish_external_id\"),\n",
    "                sf.col(\"items.garnishItems\").alias(\"garnish_items\")\n",
    "                ) \\\n",
    "        .dropDuplicates()\n",
    "    \n",
    "    # Explode and struturing Garnish for additing Order Items\n",
    "    DF_EXPLODE_GARNISH = DF_EXPLODE_ITEMS_DETAILS.select(\n",
    "        \"order_id\",\n",
    "        \"garnish_external_id\",\n",
    "        sf.explode(\"garnish_items\").alias(\"garnish_items\"))\n",
    "\n",
    "    DF_EXPLODE_GARNISH_DETAIL = DF_EXPLODE_GARNISH \\\n",
    "        .select(\"order_id\",           \n",
    "                sf.col(\"garnish_items.name\").alias(\"garnish_name\"),\n",
    "                sf.col(\"garnish_items.addition\").getItem('value').alias(\"garnish_addition\"),\n",
    "                sf.col(\"garnish_items.addition\").getItem('currency').alias(\"garnish_addition_currency\"),\n",
    "                sf.col(\"garnish_items.discount\").getItem('value').alias(\"garnish_discount\"),\n",
    "                sf.col(\"garnish_items.discount\").getItem('currency').alias(\"garnish_discount_currency\"),\n",
    "                sf.col(\"garnish_items.quantity\").alias(\"garnish_quantity\"),\n",
    "                sf.col(\"garnish_items.sequence\").alias(\"garnish_sequence\"),\n",
    "                sf.col(\"garnish_items.unitPrice\").getItem('value').alias(\"garnish_unit_price\"),\n",
    "                sf.col(\"garnish_items.unitPrice\").getItem('currency').alias(\"garnish_unit_price_currency\"),\n",
    "                sf.col(\"garnish_items.categoryId\").alias(\"garnish_category_id\"),\n",
    "                sf.col(\"garnish_items.categoryName\").alias(\"garnish_category_name\"),\n",
    "                sf.col(\"garnish_items.externalId\").alias(\"garnish_external_id\"),\n",
    "                sf.col(\"garnish_items.totalValue\").getItem('value').alias(\"garnish_total_value\"),\n",
    "                sf.col(\"garnish_items.totalValue\").getItem('currency').alias(\"garnish_total_value_currency\"),\n",
    "                sf.col(\"garnish_items.integrationId\").alias(\"garnish_integration_id\"),\n",
    "                ) \\\n",
    "        .dropDuplicates()\n",
    "\n",
    "    ## Union itens with garnish dataframe, \n",
    "    ## when 1 or more item can have 1 or more garnish.\n",
    "    DF_UNION_ITENS_GARNISH = DF_EXPLODE_ITEMS_DETAILS \\\n",
    "        .join(DF_EXPLODE_GARNISH_DETAIL, [\"order_id\",\"garnish_external_id\"]) \\\n",
    "        .drop(\"garnish_items\")\n",
    "    \n",
    "    # Write DF in trusted zone.\n",
    "    write_trusted(DF_UNION_ITENS_GARNISH, 10, None, \"order_items\")\n",
    "\n",
    "#     DF_UNION_ITENS_GARNISH.repartition(20).write \\\n",
    "#         .parquet(\"/home/murillo-silva/Documents/Projetos-Pessoais/Testes/ifood/database/trusted/order_items\",\n",
    "#                 mode=\"overwrite\")"
   ]
  },
  {
   "cell_type": "code",
   "execution_count": null,
   "metadata": {},
   "outputs": [],
   "source": [
    "trusted_order_items()"
   ]
  },
  {
   "cell_type": "code",
   "execution_count": 40,
   "metadata": {},
   "outputs": [],
   "source": [
    "def trusted_order_status():\n",
    "    \n",
    "    local_path_order = \"/home/murillo-silva/Documents/Projetos-Pessoais/Testes/ifood/database/trusted/order\"\n",
    "    DF_ORDER_STATUSES = spark.read \\\n",
    "        .parquet(local_path_order) \\\n",
    "\n",
    "    #     local_path_status = '/home/murillo-silva/Documents/Projetos-Pessoais/Testes/ifood/database/raw/status'\n",
    "    #     RAW_STATUS = spark.read \\\n",
    "    #         .load(local_path_status, format='parquet') \\\n",
    "    #         .drop(\"partition_column\") \\\n",
    "    #         .withColumnRenamed(\"created_at\",\"status_created_at\") \\\n",
    "    #         .withColumnRenamed(\"value\", \"status_value\")\n",
    "\n",
    "    DF_ORDER_STATUSES.createOrReplaceTempView(\"order\")\n",
    "    RAW_STATUS.createOrReplaceTempView(\"status\")\n",
    "\n",
    "    DF_STATUSES_ORDER = spark.sql(\"\"\"\n",
    "    select  ord.order_id,\n",
    "            st1.status_value status_1,\n",
    "            st1.status_created_at status_created_at_1,\n",
    "            st2.status_value status_2,\n",
    "            st2.status_created_at status_created_at_2,\n",
    "            st3.status_value status_3,\n",
    "            st3.status_created_at status_created_at_3,\n",
    "            st4.status_value status_4,\n",
    "            st4.status_created_at status_created_at_4\n",
    "    from order ord\n",
    "    left join (select status_created_at, status_value, order_id\n",
    "                 from status\n",
    "                where status_value = 'REGISTERED') st1 on st1.order_id = ord.order_id\n",
    "\n",
    "    left join (select status_created_at, status_value, order_id\n",
    "                 from status\n",
    "                where status_value = 'PLACED') st2 on st2.order_id = ord.order_id\n",
    "\n",
    "    left join (select status_created_at, status_value, order_id\n",
    "                 from status\n",
    "                where status_value = 'CONCLUDED') st3 on st3.order_id = ord.order_id\n",
    "\n",
    "    left join (select status_created_at, status_value, order_id\n",
    "                 from status\n",
    "                where status_value = 'CANCELLED') st4 on st4.order_id = ord.order_id\n",
    "    \"\"\").dropDuplicates()\n",
    "\n",
    "    write_trusted(DF_STATUSES_ORDER, 1, None, \"order_statuses\")\n",
    "    \n",
    "    \n",
    "#     DF_STATUSES_ORDER.repartition(1).write \\\n",
    "#         .parquet(\"/home/murillo-silva/Documents/Projetos-Pessoais/Testes/ifood/database/trusted/order_statuses\",\n",
    "#                  mode=\"overwrite\")\n"
   ]
  },
  {
   "cell_type": "code",
   "execution_count": 41,
   "metadata": {},
   "outputs": [],
   "source": [
    "trusted_order_status()"
   ]
  },
  {
   "cell_type": "code",
   "execution_count": 31,
   "metadata": {},
   "outputs": [
    {
     "name": "stdout",
     "output_type": "stream",
     "text": [
      "+--------+-----------+---+---------------------+------------------------+-------------------------+----------------------------+-------------------------+--------------------------+----------------------+-------------------------+-----+-----------+-----------------+------------------+-----------------+----------------+---------------+--------------------+------------------+---------------+--------+-------------------+------+-------------------+---------------------+---+---------------------+-------+-----------+--------------+------------+-------------+-------------------+-----------------+-------------+--------------+----------------+-----------------+------------+--------------------+\n",
      "|order_id|customer_id|cpf|delivery_address_city|delivery_address_country|delivery_address_district|delivery_address_external_id|delivery_address_latitude|delivery_address_longitude|delivery_address_state|delivery_address_zip_code|items|merchant_id|merchant_latitude|merchant_longitude|merchant_timezone|order_created_at|order_scheduled|order_scheduled_date|order_total_amount|origin_platform|language|consumer_created_at|active|customer_phone_area|customer_phone_number| id|restaurant_created_at|enabled|price_range|average_ticket|takeout_time|delivery_time|minimum_order_value|merchant_zip_code|merchant_city|merchant_state|merchant_country|status_created_at|status_value|restaurant_partition|\n",
      "+--------+-----------+---+---------------------+------------------------+-------------------------+----------------------------+-------------------------+--------------------------+----------------------+-------------------------+-----+-----------+-----------------+------------------+-----------------+----------------+---------------+--------------------+------------------+---------------+--------+-------------------+------+-------------------+---------------------+---+---------------------+-------+-----------+--------------+------------+-------------+-------------------+-----------------+-------------+--------------+----------------+-----------------+------------+--------------------+\n",
      "+--------+-----------+---+---------------------+------------------------+-------------------------+----------------------------+-------------------------+--------------------------+----------------------+-------------------------+-----+-----------+-----------------+------------------+-----------------+----------------+---------------+--------------------+------------------+---------------+--------+-------------------+------+-------------------+---------------------+---+---------------------+-------+-----------+--------------+------------+-------------+-------------------+-----------------+-------------+--------------+----------------+-----------------+------------+--------------------+\n",
      "\n"
     ]
    }
   ],
   "source": [
    "spark.sql(\"\"\" select * from order where order_id = '0002fe02-d7dc-4232-b7ac-3394019ce240'\"\"\").show()"
   ]
  },
  {
   "cell_type": "code",
   "execution_count": 32,
   "metadata": {},
   "outputs": [
    {
     "name": "stdout",
     "output_type": "stream",
     "text": [
      "+------------------------------------+----------+------------------------+--------+------------------------+---------+------------------------+--------+-------------------+\n",
      "|order_id                            |status_1  |status_created_at_1     |status_2|status_created_at_2     |status_3 |status_created_at_3     |status_4|status_created_at_4|\n",
      "+------------------------------------+----------+------------------------+--------+------------------------+---------+------------------------+--------+-------------------+\n",
      "|cda2ded6-2f13-4310-8d41-30592eb450f0|REGISTERED|2019-01-06T23:48:43.000Z|PLACED  |2019-01-06T23:48:44.000Z|CONCLUDED|2019-01-07T00:27:45.000Z|null    |null               |\n",
      "+------------------------------------+----------+------------------------+--------+------------------------+---------+------------------------+--------+-------------------+\n",
      "\n"
     ]
    }
   ],
   "source": [
    "DF_STATUSES_ORDER.filter(\"order_id = 'cda2ded6-2f13-4310-8d41-30592eb450f0'\").show(20,False)"
   ]
  },
  {
   "cell_type": "code",
   "execution_count": 33,
   "metadata": {},
   "outputs": [
    {
     "name": "stdout",
     "output_type": "stream",
     "text": [
      "+--------------------+--------------------+--------------------+------------+\n",
      "|   status_created_at|            order_id|           status_id|status_value|\n",
      "+--------------------+--------------------+--------------------+------------+\n",
      "|2019-01-06T23:48:...|cda2ded6-2f13-431...|a388eccf-5e0d-4f7...|      PLACED|\n",
      "|2019-01-06T23:48:...|cda2ded6-2f13-431...|a388eccf-5e0d-4f7...|      PLACED|\n",
      "|2019-01-07T00:27:...|cda2ded6-2f13-431...|0da68f25-f397-4bd...|   CONCLUDED|\n",
      "|2019-01-07T00:27:...|cda2ded6-2f13-431...|0da68f25-f397-4bd...|   CONCLUDED|\n",
      "|2019-01-06T23:48:...|cda2ded6-2f13-431...|9d9dfbe9-ca94-48c...|  REGISTERED|\n",
      "|2019-01-06T23:48:...|cda2ded6-2f13-431...|9d9dfbe9-ca94-48c...|  REGISTERED|\n",
      "+--------------------+--------------------+--------------------+------------+\n",
      "\n"
     ]
    }
   ],
   "source": [
    "RAW_STATUS.filter(\"order_id == 'cda2ded6-2f13-4310-8d41-30592eb450f0'\").show(10)"
   ]
  },
  {
   "cell_type": "code",
   "execution_count": null,
   "metadata": {},
   "outputs": [],
   "source": [
    "trusted_order_status()"
   ]
  },
  {
   "cell_type": "code",
   "execution_count": null,
   "metadata": {},
   "outputs": [],
   "source": []
  },
  {
   "cell_type": "code",
   "execution_count": null,
   "metadata": {},
   "outputs": [],
   "source": []
  },
  {
   "cell_type": "code",
   "execution_count": null,
   "metadata": {},
   "outputs": [],
   "source": [
    "local_path_order = \"/home/murillo-silva/Documents/Projetos-Pessoais/Testes/ifood/database/trusted/order\"\n",
    "df_val = spark.read \\\n",
    "    .parquet(local_path_order).show(1,False)"
   ]
  },
  {
   "cell_type": "code",
   "execution_count": null,
   "metadata": {},
   "outputs": [],
   "source": [
    "local_path_order = \"/home/murillo-silva/Documents/Projetos-Pessoais/Testes/ifood/database/trusted/order_items\"\n",
    "df_val = spark.read \\\n",
    "    .parquet(local_path_order).show(10,False)"
   ]
  },
  {
   "cell_type": "code",
   "execution_count": 44,
   "metadata": {},
   "outputs": [
    {
     "name": "stdout",
     "output_type": "stream",
     "text": [
      "+------------------------------------+----------+------------------------+--------+------------------------+---------+------------------------+--------+-------------------+\n",
      "|order_id                            |status_1  |status_created_at_1     |status_2|status_created_at_2     |status_3 |status_created_at_3     |status_4|status_created_at_4|\n",
      "+------------------------------------+----------+------------------------+--------+------------------------+---------+------------------------+--------+-------------------+\n",
      "|63fdd8db-8e81-4594-a139-73fb4214557c|REGISTERED|2019-01-09T21:27:51.000Z|PLACED  |2019-01-09T21:27:52.000Z|CONCLUDED|2019-01-09T23:30:05.000Z|null    |null               |\n",
      "|a3352216-91b8-43dd-be37-7f682a61b370|REGISTERED|2019-01-09T19:12:00.000Z|PLACED  |2019-01-09T19:12:01.000Z|CONCLUDED|2019-01-09T21:15:02.000Z|null    |null               |\n",
      "|dad0c4a0-5e9b-4bde-b972-67d6dd0f3da3|REGISTERED|2019-01-16T23:02:16.000Z|PLACED  |2019-01-16T23:02:17.000Z|CONCLUDED|2019-01-17T01:05:07.000Z|null    |null               |\n",
      "|f32167ba-48e6-4cab-be76-8a461eee7427|REGISTERED|2019-01-27T23:07:00.000Z|PLACED  |2019-01-27T23:07:01.000Z|CONCLUDED|2019-01-28T01:10:04.000Z|null    |null               |\n",
      "|c9c2188f-79d2-4543-81d0-48eede43d454|REGISTERED|2019-01-28T22:44:51.000Z|PLACED  |2019-01-28T22:44:52.000Z|CONCLUDED|2019-01-29T00:45:07.000Z|null    |null               |\n",
      "|cda2ded6-2f13-4310-8d41-30592eb450f0|REGISTERED|2019-01-06T23:48:43.000Z|PLACED  |2019-01-06T23:48:44.000Z|CONCLUDED|2019-01-07T00:27:45.000Z|null    |null               |\n",
      "|4a5a05ac-a4cb-486b-996c-7ed26dc17729|REGISTERED|2019-01-19T21:57:00.000Z|PLACED  |2019-01-19T21:57:01.000Z|CONCLUDED|2019-01-20T00:00:03.000Z|null    |null               |\n",
      "|49ce7453-0762-4043-bb4f-68b2c6b17ccd|REGISTERED|2019-01-24T16:33:10.000Z|PLACED  |2019-01-24T16:33:11.000Z|CONCLUDED|2019-01-24T18:35:02.000Z|null    |null               |\n",
      "|76e635cd-d63a-4d5a-84e8-8175a1f814db|REGISTERED|2019-01-05T22:48:57.000Z|PLACED  |2019-01-05T22:48:58.000Z|CONCLUDED|2019-01-06T00:50:03.000Z|null    |null               |\n",
      "|459aa3d6-32cb-4d01-96ab-18e25aef313e|REGISTERED|2019-01-12T20:06:33.000Z|PLACED  |2019-01-12T20:06:34.000Z|CONCLUDED|2019-01-12T22:10:02.000Z|null    |null               |\n",
      "+------------------------------------+----------+------------------------+--------+------------------------+---------+------------------------+--------+-------------------+\n",
      "only showing top 10 rows\n",
      "\n"
     ]
    }
   ],
   "source": [
    "local_path_order = \"/home/murillo-silva/Documents/Projetos-Pessoais/Testes/ifood/database/trusted/order_statuses\"\n",
    "df_vali = spark.read \\\n",
    "    .parquet(local_path_order).show(10,False)"
   ]
  },
  {
   "cell_type": "code",
   "execution_count": 56,
   "metadata": {},
   "outputs": [
    {
     "name": "stdout",
     "output_type": "stream",
     "text": [
      "+------------------------------------+------------------------------------+----------------------------------------------------------------+---------------------+------------------------+-------------------------+----------------------------+-------------------------+--------------------------+----------------------+-------------------------+---------------------------------------------------------------------------------------------------------------------------------------------------------------------------------------------------------------------------------------------------------------------------------------------------------------------------------------------------------------------------------------------------------------------------------------------------------------------------------------------------------------------------------------------------------------------------------------------------------------------------------------------------------------------------------------------------------------------------------------------------------------------------------------------------------------------------------------------------------------------------------------------------------------------------------------------------------------------------------------------------------------------------------------------+------------------------------------+-----------------+------------------+-----------------+------------------------+---------------+--------------------+------------------+---------------+--------+------------------------+------+-------------------+---------------------+------------------------------------+------------------------+-------+-----------+--------------+------------+-------------+-------------------+-----------------+-------------+--------------+----------------+------------------------+------------+--------------------+\n",
      "|order_id                            |customer_id                         |cpf                                                             |delivery_address_city|delivery_address_country|delivery_address_district|delivery_address_external_id|delivery_address_latitude|delivery_address_longitude|delivery_address_state|delivery_address_zip_code|items                                                                                                                                                                                                                                                                                                                                                                                                                                                                                                                                                                                                                                                                                                                                                                                                                                                                                                                                                                                                                                        |merchant_id                         |merchant_latitude|merchant_longitude|merchant_timezone|order_created_at        |order_scheduled|order_scheduled_date|order_total_amount|origin_platform|language|consumer_created_at     |active|customer_phone_area|customer_phone_number|id                                  |restaurant_created_at   |enabled|price_range|average_ticket|takeout_time|delivery_time|minimum_order_value|merchant_zip_code|merchant_city|merchant_state|merchant_country|status_created_at       |status_value|restaurant_partition|\n",
      "+------------------------------------+------------------------------------+----------------------------------------------------------------+---------------------+------------------------+-------------------------+----------------------------+-------------------------+--------------------------+----------------------+-------------------------+---------------------------------------------------------------------------------------------------------------------------------------------------------------------------------------------------------------------------------------------------------------------------------------------------------------------------------------------------------------------------------------------------------------------------------------------------------------------------------------------------------------------------------------------------------------------------------------------------------------------------------------------------------------------------------------------------------------------------------------------------------------------------------------------------------------------------------------------------------------------------------------------------------------------------------------------------------------------------------------------------------------------------------------------+------------------------------------+-----------------+------------------+-----------------+------------------------+---------------+--------------------+------------------+---------------+--------+------------------------+------+-------------------+---------------------+------------------------------------+------------------------+-------+-----------+--------------+------------+-------------+-------------------+-----------------+-------------+--------------+----------------+------------------------+------------+--------------------+\n",
      "|7428032a-70dc-482c-9f40-2655c27eb283|00bbec04-b877-48fa-af9a-07007c2c84fc|9a5f81dab24fda7a7c6ecd8918da7a6d3da9d0f157e8fb727571859a527429dc|SAO JOAO DE MERITI   |BR                      |COELHO DA ROCHA          |8655324                     |-43.38                   |-22.78                    |RJ                    |25550                    |[{\"name\": \"MILK SHAKE MORANGO 500ML\", \"addition\": {\"value\": \"0\", \"currency\": \"BRL\"}, \"discount\": {\"value\": \"0\", \"currency\": \"BRL\"}, \"quantity\": 1.00, \"sequence\": 2, \"unitPrice\": {\"value\": \"1000\", \"currency\": \"BRL\"}, \"externalId\": \"275634a0066d4237b925e91c6fd22611\", \"totalValue\": {\"value\": \"1000\", \"currency\": \"BRL\"}, \"customerNote\": null, \"garnishItems\": [], \"integrationId\": \"3197\", \"totalAddition\": {\"value\": \"0\", \"currency\": \"BRL\"}, \"totalDiscount\": {\"value\": \"0\", \"currency\": \"BRL\"}}, {\"name\": \"PRATO DO CHEF PICANHA 200G COM CAESAR SALAD\", \"addition\": {\"value\": \"0\", \"currency\": \"BRL\"}, \"discount\": {\"value\": \"0\", \"currency\": \"BRL\"}, \"quantity\": 1.00, \"sequence\": 1, \"unitPrice\": {\"value\": \"2000\", \"currency\": \"BRL\"}, \"externalId\": \"635100beb314418e90d2adf044ec63f7\", \"totalValue\": {\"value\": \"2000\", \"currency\": \"BRL\"}, \"customerNote\": \"com queijo\", \"garnishItems\": [], \"integrationId\": \"3765\", \"totalAddition\": {\"value\": \"0\", \"currency\": \"BRL\"}, \"totalDiscount\": {\"value\": \"0\", \"currency\": \"BRL\"}}]|12e5eddb-9414-41d7-bc79-1dc4fbefa4dd|-43.38           |-22.78            |America/Sao_Paulo|2019-01-09T17:01:17.000Z|false          |null                |30.0              |ANDROID        |pt-br   |2018-01-16T00:14:49.126Z|true  |08                 |3.49865655E8         |12e5eddb-9414-41d7-bc79-1dc4fbefa4dd|2017-01-20T13:13:00.385Z|false  |3          |60.0          |10          |50           |null               |26130            |BELFORD ROXO |RJ            |BR              |2019-01-09T19:05:24.000Z|CONCLUDED   |2017-01-20          |\n",
      "+------------------------------------+------------------------------------+----------------------------------------------------------------+---------------------+------------------------+-------------------------+----------------------------+-------------------------+--------------------------+----------------------+-------------------------+---------------------------------------------------------------------------------------------------------------------------------------------------------------------------------------------------------------------------------------------------------------------------------------------------------------------------------------------------------------------------------------------------------------------------------------------------------------------------------------------------------------------------------------------------------------------------------------------------------------------------------------------------------------------------------------------------------------------------------------------------------------------------------------------------------------------------------------------------------------------------------------------------------------------------------------------------------------------------------------------------------------------------------------------+------------------------------------+-----------------+------------------+-----------------+------------------------+---------------+--------------------+------------------+---------------+--------+------------------------+------+-------------------+---------------------+------------------------------------+------------------------+-------+-----------+--------------+------------+-------------+-------------------+-----------------+-------------+--------------+----------------+------------------------+------------+--------------------+\n",
      "only showing top 1 row\n",
      "\n"
     ]
    }
   ],
   "source": [
    "val_aws = 's3a://ifood-data-architect-test-source-murillo/trusted/order/'\n",
    "df_vali = spark.read \\\n",
    "    .parquet(val_aws).show(1,False)"
   ]
  },
  {
   "cell_type": "code",
   "execution_count": 57,
   "metadata": {},
   "outputs": [
    {
     "name": "stdout",
     "output_type": "stream",
     "text": [
      "+------------------------------------+--------------------------------+----------------------------------------------+-----------------+--------+-----------------+--------+--------+-------------------+----------+--------------------------------+--------------------+-----------+-------------+--------------+----------------------+-------------+-----------------------+--------------+----------------+----------------+-------------------------+----------------+-------------------------+----------------+----------------+------------------+---------------------------+-------------------+---------------------+-------------------+----------------------------+----------------------+\n",
      "|order_id                            |garnish_external_id             |name                                          |addition_currency|addition|discount_currency|discount|quantity|unit_price_currency|unit_price|external_id                     |total_value_currency|total_value|customer_note|integration_id|tota_addition_currency|tota_addition|total_discount_currency|total_discount|garnish_name    |garnish_addition|garnish_addition_currency|garnish_discount|garnish_discount_currency|garnish_quantity|garnish_sequence|garnish_unit_price|garnish_unit_price_currency|garnish_category_id|garnish_category_name|garnish_total_value|garnish_total_value_currency|garnish_integration_id|\n",
      "+------------------------------------+--------------------------------+----------------------------------------------+-----------------+--------+-----------------+--------+--------+-------------------+----------+--------------------------------+--------------------+-----------+-------------+--------------+----------------------+-------------+-----------------------+--------------+----------------+----------------+-------------------------+----------------+-------------------------+----------------+----------------+------------------+---------------------------+-------------------+---------------------+-------------------+----------------------------+----------------------+\n",
      "|457310e8-0b56-4345-8bff-93dda1959970|d3c71160df7e4fe080b755db0f71d85c|01 - LAÇA BURGUER + FRITAS PEQUENA + MILKSHAKE|BRL              |0       |BRL              |0       |1.0     |BRL                |2800      |de77f836ef314e308db06a8c78113a16|BRL                 |2800       |null         |null          |BRL                   |0            |BRL                    |0             |EMB DE SANDUICHE|0               |BRL                      |0               |BRL                      |1.0             |3               |50                |BRL                        |9S3Q               |EMBALAGEM            |50                 |BRL                         |null                  |\n",
      "+------------------------------------+--------------------------------+----------------------------------------------+-----------------+--------+-----------------+--------+--------+-------------------+----------+--------------------------------+--------------------+-----------+-------------+--------------+----------------------+-------------+-----------------------+--------------+----------------+----------------+-------------------------+----------------+-------------------------+----------------+----------------+------------------+---------------------------+-------------------+---------------------+-------------------+----------------------------+----------------------+\n",
      "only showing top 1 row\n",
      "\n"
     ]
    }
   ],
   "source": [
    "val_aws = 's3a://ifood-data-architect-test-source-murillo/trusted/order_items/'\n",
    "df_vali = spark.read \\\n",
    "    .parquet(val_aws).show(1,False)"
   ]
  },
  {
   "cell_type": "code",
   "execution_count": 59,
   "metadata": {},
   "outputs": [
    {
     "name": "stdout",
     "output_type": "stream",
     "text": [
      "+------------------------------------+----------+------------------------+--------+------------------------+---------+------------------------+--------+-------------------+\n",
      "|order_id                            |status_1  |status_created_at_1     |status_2|status_created_at_2     |status_3 |status_created_at_3     |status_4|status_created_at_4|\n",
      "+------------------------------------+----------+------------------------+--------+------------------------+---------+------------------------+--------+-------------------+\n",
      "|0002fe02-d7dc-4232-b7ac-3394019ce240|REGISTERED|2019-01-24T23:04:27.000Z|PLACED  |2019-01-24T23:04:28.000Z|CONCLUDED|2019-01-25T01:05:07.000Z|null    |null               |\n",
      "+------------------------------------+----------+------------------------+--------+------------------------+---------+------------------------+--------+-------------------+\n",
      "only showing top 1 row\n",
      "\n"
     ]
    }
   ],
   "source": [
    "val_aws = 's3a://ifood-data-architect-test-source-murillo/trusted/order_statuses/'\n",
    "df_vali = spark.read \\\n",
    "    .parquet(val_aws).show(1,False)"
   ]
  },
  {
   "cell_type": "code",
   "execution_count": null,
   "metadata": {},
   "outputs": [],
   "source": []
  },
  {
   "cell_type": "code",
   "execution_count": null,
   "metadata": {},
   "outputs": [],
   "source": []
  },
  {
   "cell_type": "code",
   "execution_count": null,
   "metadata": {},
   "outputs": [],
   "source": []
  },
  {
   "cell_type": "code",
   "execution_count": null,
   "metadata": {},
   "outputs": [],
   "source": [
    "def datetime_result(date_type):\n",
    "    \"\"\" Recover brazilian time.\n",
    "    \"\"\" \n",
    "    if date_type == 'today':\n",
    "        date_now = (dt.datetime.utcnow() - dt.timedelta(hours=3)).strftime('%Y-%m-%d')\n",
    "        return str(date_now)\n",
    "    if date_type == 'today_timestamp':\n",
    "        date_now = (dt.datetime.utcnow() - dt.timedelta(hours=3)).strftime('%Y-%m-%d %H:%M:%S')\n",
    "        return str(date_now)\n",
    "    else:\n",
    "        date_yesternoon = (dt.datetime.utcnow() - dt.timedelta(days=1)).strftime('%Y-%m-%d')\n",
    "        return str(date_yesternoon)"
   ]
  },
  {
   "cell_type": "code",
   "execution_count": null,
   "metadata": {},
   "outputs": [],
   "source": [
    "def checking_quality(actual, previous):\n",
    "    \"\"\"\n",
    "    :param actual: number of records comming from last trusted zone.\n",
    "    :param previous: number of records comming from the wildcard previues trusted zone.\n",
    "    :return: TRUE, if the dataset is OK to be inserted / FALSE, if any problem\n",
    "    related to quality was found.\n",
    "    \"\"\"\n",
    "    # Checking the percentage of drop in the counting\n",
    "    maximum_percentage_of_drop_in_count = 80\n",
    "\n",
    "    logger.info(f\"Quality Message: Actual {actual} - Previous {previous}\")\n",
    "    \n",
    "    if actual < previous:\n",
    "        if ((((actual / previous) - 1) * 100) * -1) >= maximum_percentage_of_drop_in_count:  # noqa\n",
    "            return False\n",
    "\n",
    "    return True"
   ]
  },
  {
   "cell_type": "code",
   "execution_count": 134,
   "metadata": {},
   "outputs": [],
   "source": [
    "def write_trusted(dataframe, repartition, partition, dataset):\n",
    "    \n",
    "    PATH = path_read_write(\"trusted\", dataset)\n",
    "    try:\n",
    "        # Todo, find last dataset wildcard using boto3 for figureout that.\n",
    "        DF_LATEST = spark.read \\\n",
    "            .parquet(PATH + '/partition=' + datetime_result(\"yesterday\"))\n",
    "        latest_v2_count = DF_LATEST.count()\n",
    "    \n",
    "    except Exception:\n",
    "        latest_v2_count = 1\n",
    "    \n",
    "    logger.info(\"Getting the count from the current versions of the trusted\")\n",
    "    latest_count = dataframe.count()\n",
    "    quality_check = checking_quality(latest_count, latest_v2_count)\n",
    "    \n",
    "    if quality_check:\n",
    "        \n",
    "        dataframe.repartition(repartition).write \\\n",
    "        .parquet(PATH + '/partition=' + datetime_result(\"today\"),\n",
    "             mode=\"overwrite\",\n",
    "             partitionBy=partition)\n",
    "    else:\n",
    "        logger.info(f\"Quality Urgent: Dataset: {dataset} are 80% lower. Check it out!!\")"
   ]
  },
  {
   "cell_type": "code",
   "execution_count": null,
   "metadata": {},
   "outputs": [],
   "source": []
  },
  {
   "cell_type": "code",
   "execution_count": null,
   "metadata": {},
   "outputs": [],
   "source": []
  },
  {
   "cell_type": "code",
   "execution_count": 67,
   "metadata": {},
   "outputs": [],
   "source": [
    "import boto3\n",
    "\n",
    "BUCKET='ifood-data-architect-test-source-murillo'"
   ]
  },
  {
   "cell_type": "code",
   "execution_count": 64,
   "metadata": {},
   "outputs": [
    {
     "data": {
      "text/plain": [
       "{'ResponseMetadata': {'RequestId': 'A8AA3AB6C8A384BF',\n",
       "  'HostId': 'eAppGnGbVQeDV/rlbGvhOyB86zLNBzpNMP+6koFMT1oPpZg9DwccKO4uTMvu/XBp14EXW/frvKU=',\n",
       "  'HTTPStatusCode': 200,\n",
       "  'HTTPHeaders': {'x-amz-id-2': 'eAppGnGbVQeDV/rlbGvhOyB86zLNBzpNMP+6koFMT1oPpZg9DwccKO4uTMvu/XBp14EXW/frvKU=',\n",
       "   'x-amz-request-id': 'A8AA3AB6C8A384BF',\n",
       "   'date': 'Mon, 20 Jul 2020 13:37:18 GMT',\n",
       "   'x-amz-bucket-region': 'us-east-1',\n",
       "   'content-type': 'application/xml',\n",
       "   'transfer-encoding': 'chunked',\n",
       "   'server': 'AmazonS3'},\n",
       "  'RetryAttempts': 0},\n",
       " 'IsTruncated': False,\n",
       " 'Contents': [{'Key': 'raw/consumer/partition_column=2020-07-20/part-00000-d3e75e66-72b6-451f-948b-38542c601572.c000.snappy.parquet',\n",
       "   'LastModified': datetime.datetime(2020, 7, 20, 13, 3, 28, tzinfo=tzutc()),\n",
       "   'ETag': '\"d3a309eb02792515fef07a026c1e0490\"',\n",
       "   'Size': 47544578,\n",
       "   'StorageClass': 'STANDARD'},\n",
       "  {'Key': 'raw/consumer/partition_column=2020-07-20_$folder$',\n",
       "   'LastModified': datetime.datetime(2020, 7, 20, 13, 3, 28, tzinfo=tzutc()),\n",
       "   'ETag': '\"d41d8cd98f00b204e9800998ecf8427e\"',\n",
       "   'Size': 0,\n",
       "   'StorageClass': 'STANDARD'},\n",
       "  {'Key': 'raw/consumer_$folder$',\n",
       "   'LastModified': datetime.datetime(2020, 7, 20, 13, 3, 20, tzinfo=tzutc()),\n",
       "   'ETag': '\"d41d8cd98f00b204e9800998ecf8427e\"',\n",
       "   'Size': 0,\n",
       "   'StorageClass': 'STANDARD'},\n",
       "  {'Key': 'raw/order/partition_column=2020-07-20/part-00000-5df0702b-bc9e-4622-ac30-7b8458e6127a.c000.snappy.parquet',\n",
       "   'LastModified': datetime.datetime(2020, 7, 20, 13, 1, 53, tzinfo=tzutc()),\n",
       "   'ETag': '\"0f84fdadf01fdbaa4289483b41819f6f-14\"',\n",
       "   'Size': 1856866088,\n",
       "   'StorageClass': 'STANDARD'},\n",
       "  {'Key': 'raw/order/partition_column=2020-07-20_$folder$',\n",
       "   'LastModified': datetime.datetime(2020, 7, 20, 13, 1, 53, tzinfo=tzutc()),\n",
       "   'ETag': '\"d41d8cd98f00b204e9800998ecf8427e\"',\n",
       "   'Size': 0,\n",
       "   'StorageClass': 'STANDARD'},\n",
       "  {'Key': 'raw/order_$folder$',\n",
       "   'LastModified': datetime.datetime(2020, 7, 20, 12, 58, 23, tzinfo=tzutc()),\n",
       "   'ETag': '\"d41d8cd98f00b204e9800998ecf8427e\"',\n",
       "   'Size': 0,\n",
       "   'StorageClass': 'STANDARD'},\n",
       "  {'Key': 'raw/restaurant/partition_column=2020-07-20/part-00000-06771bd7-8c0a-435b-a808-938e0239f2d3.c000.snappy.parquet',\n",
       "   'LastModified': datetime.datetime(2020, 7, 20, 13, 3, 19, tzinfo=tzutc()),\n",
       "   'ETag': '\"cdd9fffe5a040b9e41b25934098df639\"',\n",
       "   'Size': 388289,\n",
       "   'StorageClass': 'STANDARD'},\n",
       "  {'Key': 'raw/restaurant/partition_column=2020-07-20_$folder$',\n",
       "   'LastModified': datetime.datetime(2020, 7, 20, 13, 3, 18, tzinfo=tzutc()),\n",
       "   'ETag': '\"d41d8cd98f00b204e9800998ecf8427e\"',\n",
       "   'Size': 0,\n",
       "   'StorageClass': 'STANDARD'},\n",
       "  {'Key': 'raw/restaurant_$folder$',\n",
       "   'LastModified': datetime.datetime(2020, 7, 20, 13, 3, 16, tzinfo=tzutc()),\n",
       "   'ETag': '\"d41d8cd98f00b204e9800998ecf8427e\"',\n",
       "   'Size': 0,\n",
       "   'StorageClass': 'STANDARD'},\n",
       "  {'Key': 'raw/status/partition_column=2020-07-20/part-00000-7ff354c6-aa30-4e10-8061-2eed71471918.c000.snappy.parquet',\n",
       "   'LastModified': datetime.datetime(2020, 7, 20, 13, 3, 11, tzinfo=tzutc()),\n",
       "   'ETag': '\"91926049a7f6cc1f614ff1c100ff2e30-4\"',\n",
       "   'Size': 461331284,\n",
       "   'StorageClass': 'STANDARD'},\n",
       "  {'Key': 'raw/status/partition_column=2020-07-20_$folder$',\n",
       "   'LastModified': datetime.datetime(2020, 7, 20, 13, 3, 11, tzinfo=tzutc()),\n",
       "   'ETag': '\"d41d8cd98f00b204e9800998ecf8427e\"',\n",
       "   'Size': 0,\n",
       "   'StorageClass': 'STANDARD'},\n",
       "  {'Key': 'raw/status_$folder$',\n",
       "   'LastModified': datetime.datetime(2020, 7, 20, 13, 2, 22, tzinfo=tzutc()),\n",
       "   'ETag': '\"d41d8cd98f00b204e9800998ecf8427e\"',\n",
       "   'Size': 0,\n",
       "   'StorageClass': 'STANDARD'},\n",
       "  {'Key': 'raw_$folder$',\n",
       "   'LastModified': datetime.datetime(2020, 7, 17, 0, 24, 9, tzinfo=tzutc()),\n",
       "   'ETag': '\"d41d8cd98f00b204e9800998ecf8427e\"',\n",
       "   'Size': 0,\n",
       "   'StorageClass': 'STANDARD'},\n",
       "  {'Key': 'trusted/',\n",
       "   'LastModified': datetime.datetime(2020, 7, 15, 15, 59, 50, tzinfo=tzutc()),\n",
       "   'ETag': '\"d41d8cd98f00b204e9800998ecf8427e\"',\n",
       "   'Size': 0,\n",
       "   'StorageClass': 'STANDARD'},\n",
       "  {'Key': 'trusted/order/restaurant_partition=2020-07-20/part-00000-a05f8403-73e2-4816-aaf4-adc5e67265ef.c000.snappy.parquet',\n",
       "   'LastModified': datetime.datetime(2020, 7, 20, 13, 33, 17, tzinfo=tzutc()),\n",
       "   'ETag': '\"1cce23cbf36b0adcb623af06a66f332d\"',\n",
       "   'Size': 16342591,\n",
       "   'StorageClass': 'STANDARD'},\n",
       "  {'Key': 'trusted/order/restaurant_partition=2020-07-20/part-00001-a05f8403-73e2-4816-aaf4-adc5e67265ef.c000.snappy.parquet',\n",
       "   'LastModified': datetime.datetime(2020, 7, 20, 13, 33, 16, tzinfo=tzutc()),\n",
       "   'ETag': '\"f571d84f341c3d9ad29663cb18248e59\"',\n",
       "   'Size': 16281562,\n",
       "   'StorageClass': 'STANDARD'},\n",
       "  {'Key': 'trusted/order/restaurant_partition=2020-07-20/part-00002-a05f8403-73e2-4816-aaf4-adc5e67265ef.c000.snappy.parquet',\n",
       "   'LastModified': datetime.datetime(2020, 7, 20, 13, 33, 16, tzinfo=tzutc()),\n",
       "   'ETag': '\"983097c86a0c01acf8539c8bdf943673\"',\n",
       "   'Size': 16333494,\n",
       "   'StorageClass': 'STANDARD'},\n",
       "  {'Key': 'trusted/order/restaurant_partition=2020-07-20/part-00003-a05f8403-73e2-4816-aaf4-adc5e67265ef.c000.snappy.parquet',\n",
       "   'LastModified': datetime.datetime(2020, 7, 20, 13, 33, 16, tzinfo=tzutc()),\n",
       "   'ETag': '\"28c030ebadc3ad5d4f1d366d8fc9c00c\"',\n",
       "   'Size': 16276699,\n",
       "   'StorageClass': 'STANDARD'},\n",
       "  {'Key': 'trusted/order/restaurant_partition=2020-07-20/part-00004-a05f8403-73e2-4816-aaf4-adc5e67265ef.c000.snappy.parquet',\n",
       "   'LastModified': datetime.datetime(2020, 7, 20, 13, 33, 17, tzinfo=tzutc()),\n",
       "   'ETag': '\"33366dafb8b89861a5f73c9f29354bfa\"',\n",
       "   'Size': 16279980,\n",
       "   'StorageClass': 'STANDARD'},\n",
       "  {'Key': 'trusted/order/restaurant_partition=2020-07-20/part-00005-a05f8403-73e2-4816-aaf4-adc5e67265ef.c000.snappy.parquet',\n",
       "   'LastModified': datetime.datetime(2020, 7, 20, 13, 33, 16, tzinfo=tzutc()),\n",
       "   'ETag': '\"8e06822de85a065930743d89ed5eeb1d\"',\n",
       "   'Size': 16286922,\n",
       "   'StorageClass': 'STANDARD'},\n",
       "  {'Key': 'trusted/order/restaurant_partition=2020-07-20/part-00006-a05f8403-73e2-4816-aaf4-adc5e67265ef.c000.snappy.parquet',\n",
       "   'LastModified': datetime.datetime(2020, 7, 20, 13, 33, 16, tzinfo=tzutc()),\n",
       "   'ETag': '\"592c542160a61624e8a2cbb3d17c0526\"',\n",
       "   'Size': 16335056,\n",
       "   'StorageClass': 'STANDARD'},\n",
       "  {'Key': 'trusted/order/restaurant_partition=2020-07-20/part-00007-a05f8403-73e2-4816-aaf4-adc5e67265ef.c000.snappy.parquet',\n",
       "   'LastModified': datetime.datetime(2020, 7, 20, 13, 33, 16, tzinfo=tzutc()),\n",
       "   'ETag': '\"b370e39f03d0d21af5ea3937f537de8c\"',\n",
       "   'Size': 16352542,\n",
       "   'StorageClass': 'STANDARD'},\n",
       "  {'Key': 'trusted/order/restaurant_partition=2020-07-20/part-00008-a05f8403-73e2-4816-aaf4-adc5e67265ef.c000.snappy.parquet',\n",
       "   'LastModified': datetime.datetime(2020, 7, 20, 13, 33, 17, tzinfo=tzutc()),\n",
       "   'ETag': '\"54b6cde41b6d2555af20497a8479e8ea\"',\n",
       "   'Size': 16404246,\n",
       "   'StorageClass': 'STANDARD'},\n",
       "  {'Key': 'trusted/order/restaurant_partition=2020-07-20/part-00009-a05f8403-73e2-4816-aaf4-adc5e67265ef.c000.snappy.parquet',\n",
       "   'LastModified': datetime.datetime(2020, 7, 20, 13, 33, 16, tzinfo=tzutc()),\n",
       "   'ETag': '\"5afbdf80ca007e19ca31b7bc113c76ab\"',\n",
       "   'Size': 16323295,\n",
       "   'StorageClass': 'STANDARD'},\n",
       "  {'Key': 'trusted/order/restaurant_partition=2020-07-20/part-00010-a05f8403-73e2-4816-aaf4-adc5e67265ef.c000.snappy.parquet',\n",
       "   'LastModified': datetime.datetime(2020, 7, 20, 13, 33, 16, tzinfo=tzutc()),\n",
       "   'ETag': '\"ad451d790629136825ffd8b8facce7dc\"',\n",
       "   'Size': 16314523,\n",
       "   'StorageClass': 'STANDARD'},\n",
       "  {'Key': 'trusted/order/restaurant_partition=2020-07-20/part-00011-a05f8403-73e2-4816-aaf4-adc5e67265ef.c000.snappy.parquet',\n",
       "   'LastModified': datetime.datetime(2020, 7, 20, 13, 33, 16, tzinfo=tzutc()),\n",
       "   'ETag': '\"b7d3cefc1e1459817af2cc40e78ec403\"',\n",
       "   'Size': 16309529,\n",
       "   'StorageClass': 'STANDARD'},\n",
       "  {'Key': 'trusted/order/restaurant_partition=2020-07-20/part-00012-a05f8403-73e2-4816-aaf4-adc5e67265ef.c000.snappy.parquet',\n",
       "   'LastModified': datetime.datetime(2020, 7, 20, 13, 33, 17, tzinfo=tzutc()),\n",
       "   'ETag': '\"b83a7320c3ae6ae65c9f70de269113da\"',\n",
       "   'Size': 16315715,\n",
       "   'StorageClass': 'STANDARD'},\n",
       "  {'Key': 'trusted/order/restaurant_partition=2020-07-20/part-00013-a05f8403-73e2-4816-aaf4-adc5e67265ef.c000.snappy.parquet',\n",
       "   'LastModified': datetime.datetime(2020, 7, 20, 13, 33, 16, tzinfo=tzutc()),\n",
       "   'ETag': '\"09906fe27bd428bf6c36d9cfcfdbc324\"',\n",
       "   'Size': 16363153,\n",
       "   'StorageClass': 'STANDARD'},\n",
       "  {'Key': 'trusted/order/restaurant_partition=2020-07-20/part-00014-a05f8403-73e2-4816-aaf4-adc5e67265ef.c000.snappy.parquet',\n",
       "   'LastModified': datetime.datetime(2020, 7, 20, 13, 33, 16, tzinfo=tzutc()),\n",
       "   'ETag': '\"9a3b88eb785d186caae42d55c31c32b3\"',\n",
       "   'Size': 16332619,\n",
       "   'StorageClass': 'STANDARD'},\n",
       "  {'Key': 'trusted/order/restaurant_partition=2020-07-20/part-00015-a05f8403-73e2-4816-aaf4-adc5e67265ef.c000.snappy.parquet',\n",
       "   'LastModified': datetime.datetime(2020, 7, 20, 13, 33, 16, tzinfo=tzutc()),\n",
       "   'ETag': '\"ee0e68619abe2b552d22eccf88d91903\"',\n",
       "   'Size': 16374136,\n",
       "   'StorageClass': 'STANDARD'},\n",
       "  {'Key': 'trusted/order/restaurant_partition=2020-07-20/part-00016-a05f8403-73e2-4816-aaf4-adc5e67265ef.c000.snappy.parquet',\n",
       "   'LastModified': datetime.datetime(2020, 7, 20, 13, 33, 17, tzinfo=tzutc()),\n",
       "   'ETag': '\"ae8f5934292d0d2589c83b1ae37efbf8\"',\n",
       "   'Size': 16203175,\n",
       "   'StorageClass': 'STANDARD'},\n",
       "  {'Key': 'trusted/order/restaurant_partition=2020-07-20/part-00017-a05f8403-73e2-4816-aaf4-adc5e67265ef.c000.snappy.parquet',\n",
       "   'LastModified': datetime.datetime(2020, 7, 20, 13, 33, 20, tzinfo=tzutc()),\n",
       "   'ETag': '\"e7a878fb6645db742d141d877a3efc5e\"',\n",
       "   'Size': 16388734,\n",
       "   'StorageClass': 'STANDARD'},\n",
       "  {'Key': 'trusted/order/restaurant_partition=2020-07-20/part-00018-a05f8403-73e2-4816-aaf4-adc5e67265ef.c000.snappy.parquet',\n",
       "   'LastModified': datetime.datetime(2020, 7, 20, 13, 33, 15, tzinfo=tzutc()),\n",
       "   'ETag': '\"883fb4990276147164f522e2c8e3298c\"',\n",
       "   'Size': 16375055,\n",
       "   'StorageClass': 'STANDARD'},\n",
       "  {'Key': 'trusted/order/restaurant_partition=2020-07-20/part-00019-a05f8403-73e2-4816-aaf4-adc5e67265ef.c000.snappy.parquet',\n",
       "   'LastModified': datetime.datetime(2020, 7, 20, 13, 33, 17, tzinfo=tzutc()),\n",
       "   'ETag': '\"b7f1467615d5bb7a426cb6fc3324b682\"',\n",
       "   'Size': 16347540,\n",
       "   'StorageClass': 'STANDARD'},\n",
       "  {'Key': 'trusted/order/restaurant_partition=2020-07-20/part-00020-a05f8403-73e2-4816-aaf4-adc5e67265ef.c000.snappy.parquet',\n",
       "   'LastModified': datetime.datetime(2020, 7, 20, 13, 33, 20, tzinfo=tzutc()),\n",
       "   'ETag': '\"f0af69f80d68a4c53483bd7b88e1316c\"',\n",
       "   'Size': 16345761,\n",
       "   'StorageClass': 'STANDARD'},\n",
       "  {'Key': 'trusted/order/restaurant_partition=2020-07-20/part-00021-a05f8403-73e2-4816-aaf4-adc5e67265ef.c000.snappy.parquet',\n",
       "   'LastModified': datetime.datetime(2020, 7, 20, 13, 33, 15, tzinfo=tzutc()),\n",
       "   'ETag': '\"fc631ca3cf589823f0dca3343d798207\"',\n",
       "   'Size': 16395020,\n",
       "   'StorageClass': 'STANDARD'},\n",
       "  {'Key': 'trusted/order/restaurant_partition=2020-07-20/part-00022-a05f8403-73e2-4816-aaf4-adc5e67265ef.c000.snappy.parquet',\n",
       "   'LastModified': datetime.datetime(2020, 7, 20, 13, 33, 17, tzinfo=tzutc()),\n",
       "   'ETag': '\"80bafdddff9481df5fb2cff3bb6da779\"',\n",
       "   'Size': 16427754,\n",
       "   'StorageClass': 'STANDARD'},\n",
       "  {'Key': 'trusted/order/restaurant_partition=2020-07-20/part-00023-a05f8403-73e2-4816-aaf4-adc5e67265ef.c000.snappy.parquet',\n",
       "   'LastModified': datetime.datetime(2020, 7, 20, 13, 33, 22, tzinfo=tzutc()),\n",
       "   'ETag': '\"3ecd400df7d6eaef19a65a3ab9575170\"',\n",
       "   'Size': 16328392,\n",
       "   'StorageClass': 'STANDARD'},\n",
       "  {'Key': 'trusted/order/restaurant_partition=2020-07-20/part-00024-a05f8403-73e2-4816-aaf4-adc5e67265ef.c000.snappy.parquet',\n",
       "   'LastModified': datetime.datetime(2020, 7, 20, 13, 33, 15, tzinfo=tzutc()),\n",
       "   'ETag': '\"8738f4bbc8eca3585173b0c9930c5e8a\"',\n",
       "   'Size': 16336914,\n",
       "   'StorageClass': 'STANDARD'},\n",
       "  {'Key': 'trusted/order/restaurant_partition=2020-07-20/part-00025-a05f8403-73e2-4816-aaf4-adc5e67265ef.c000.snappy.parquet',\n",
       "   'LastModified': datetime.datetime(2020, 7, 20, 13, 33, 17, tzinfo=tzutc()),\n",
       "   'ETag': '\"19f1f92fc37c853da49878a05af062ea\"',\n",
       "   'Size': 16304222,\n",
       "   'StorageClass': 'STANDARD'},\n",
       "  {'Key': 'trusted/order/restaurant_partition=2020-07-20/part-00026-a05f8403-73e2-4816-aaf4-adc5e67265ef.c000.snappy.parquet',\n",
       "   'LastModified': datetime.datetime(2020, 7, 20, 13, 33, 20, tzinfo=tzutc()),\n",
       "   'ETag': '\"ada9081cc9854fdb97112efe7d6dc0bc\"',\n",
       "   'Size': 16288169,\n",
       "   'StorageClass': 'STANDARD'},\n",
       "  {'Key': 'trusted/order/restaurant_partition=2020-07-20/part-00027-a05f8403-73e2-4816-aaf4-adc5e67265ef.c000.snappy.parquet',\n",
       "   'LastModified': datetime.datetime(2020, 7, 20, 13, 33, 15, tzinfo=tzutc()),\n",
       "   'ETag': '\"efcf8343ffdf928198ada3cc56611681\"',\n",
       "   'Size': 16392221,\n",
       "   'StorageClass': 'STANDARD'},\n",
       "  {'Key': 'trusted/order/restaurant_partition=2020-07-20/part-00028-a05f8403-73e2-4816-aaf4-adc5e67265ef.c000.snappy.parquet',\n",
       "   'LastModified': datetime.datetime(2020, 7, 20, 13, 33, 17, tzinfo=tzutc()),\n",
       "   'ETag': '\"6931d735fa9ed4f5e6df68f763c25df3\"',\n",
       "   'Size': 16305332,\n",
       "   'StorageClass': 'STANDARD'},\n",
       "  {'Key': 'trusted/order/restaurant_partition=2020-07-20/part-00029-a05f8403-73e2-4816-aaf4-adc5e67265ef.c000.snappy.parquet',\n",
       "   'LastModified': datetime.datetime(2020, 7, 20, 13, 33, 17, tzinfo=tzutc()),\n",
       "   'ETag': '\"152fbae8715b99d099d1b38f67d36385\"',\n",
       "   'Size': 16315953,\n",
       "   'StorageClass': 'STANDARD'},\n",
       "  {'Key': 'trusted/order/restaurant_partition=2020-07-20_$folder$',\n",
       "   'LastModified': datetime.datetime(2020, 7, 20, 13, 33, 15, tzinfo=tzutc()),\n",
       "   'ETag': '\"d41d8cd98f00b204e9800998ecf8427e\"',\n",
       "   'Size': 0,\n",
       "   'StorageClass': 'STANDARD'},\n",
       "  {'Key': 'trusted/order_$folder$',\n",
       "   'LastModified': datetime.datetime(2020, 7, 20, 13, 31, 53, tzinfo=tzutc()),\n",
       "   'ETag': '\"d41d8cd98f00b204e9800998ecf8427e\"',\n",
       "   'Size': 0,\n",
       "   'StorageClass': 'STANDARD'},\n",
       "  {'Key': 'trusted/order_items/part-00000-20107f43-e2ef-4a8d-aa92-2f94dee27438-c000.snappy.parquet',\n",
       "   'LastModified': datetime.datetime(2020, 7, 20, 13, 35, 10, tzinfo=tzutc()),\n",
       "   'ETag': '\"4a4a9c8a1c2860428c8e13259850da0e\"',\n",
       "   'Size': 24049484,\n",
       "   'StorageClass': 'STANDARD'},\n",
       "  {'Key': 'trusted/order_items/part-00001-20107f43-e2ef-4a8d-aa92-2f94dee27438-c000.snappy.parquet',\n",
       "   'LastModified': datetime.datetime(2020, 7, 20, 13, 35, 8, tzinfo=tzutc()),\n",
       "   'ETag': '\"156e346f201544fd6ab00371a3b03d88\"',\n",
       "   'Size': 24039783,\n",
       "   'StorageClass': 'STANDARD'},\n",
       "  {'Key': 'trusted/order_items/part-00002-20107f43-e2ef-4a8d-aa92-2f94dee27438-c000.snappy.parquet',\n",
       "   'LastModified': datetime.datetime(2020, 7, 20, 13, 35, 10, tzinfo=tzutc()),\n",
       "   'ETag': '\"717d131755a8448df35a73f557feff20\"',\n",
       "   'Size': 24091553,\n",
       "   'StorageClass': 'STANDARD'},\n",
       "  {'Key': 'trusted/order_items/part-00003-20107f43-e2ef-4a8d-aa92-2f94dee27438-c000.snappy.parquet',\n",
       "   'LastModified': datetime.datetime(2020, 7, 20, 13, 35, 8, tzinfo=tzutc()),\n",
       "   'ETag': '\"62075d83c5b1bd63828d710a21b59c99\"',\n",
       "   'Size': 24051453,\n",
       "   'StorageClass': 'STANDARD'},\n",
       "  {'Key': 'trusted/order_items/part-00004-20107f43-e2ef-4a8d-aa92-2f94dee27438-c000.snappy.parquet',\n",
       "   'LastModified': datetime.datetime(2020, 7, 20, 13, 35, 10, tzinfo=tzutc()),\n",
       "   'ETag': '\"5fe5f3797fd9c9c666d01c78924f10a8\"',\n",
       "   'Size': 24040741,\n",
       "   'StorageClass': 'STANDARD'},\n",
       "  {'Key': 'trusted/order_items/part-00005-20107f43-e2ef-4a8d-aa92-2f94dee27438-c000.snappy.parquet',\n",
       "   'LastModified': datetime.datetime(2020, 7, 20, 13, 35, 8, tzinfo=tzutc()),\n",
       "   'ETag': '\"bbf6577dbaebc779beecb85a5d0ffa8b\"',\n",
       "   'Size': 24067156,\n",
       "   'StorageClass': 'STANDARD'},\n",
       "  {'Key': 'trusted/order_items/part-00006-20107f43-e2ef-4a8d-aa92-2f94dee27438-c000.snappy.parquet',\n",
       "   'LastModified': datetime.datetime(2020, 7, 20, 13, 35, 10, tzinfo=tzutc()),\n",
       "   'ETag': '\"9a6a1cb10d2191cc16d4cca8855c177f\"',\n",
       "   'Size': 24044613,\n",
       "   'StorageClass': 'STANDARD'},\n",
       "  {'Key': 'trusted/order_items/part-00007-20107f43-e2ef-4a8d-aa92-2f94dee27438-c000.snappy.parquet',\n",
       "   'LastModified': datetime.datetime(2020, 7, 20, 13, 35, 8, tzinfo=tzutc()),\n",
       "   'ETag': '\"b16522bad0c3612ef3c2b4d8ed4b17eb\"',\n",
       "   'Size': 24043699,\n",
       "   'StorageClass': 'STANDARD'},\n",
       "  {'Key': 'trusted/order_items/part-00008-20107f43-e2ef-4a8d-aa92-2f94dee27438-c000.snappy.parquet',\n",
       "   'LastModified': datetime.datetime(2020, 7, 20, 13, 35, 6, tzinfo=tzutc()),\n",
       "   'ETag': '\"4f699ef3bb0f1a7fc5689c48ed663760\"',\n",
       "   'Size': 24056079,\n",
       "   'StorageClass': 'STANDARD'},\n",
       "  {'Key': 'trusted/order_items/part-00009-20107f43-e2ef-4a8d-aa92-2f94dee27438-c000.snappy.parquet',\n",
       "   'LastModified': datetime.datetime(2020, 7, 20, 13, 35, 6, tzinfo=tzutc()),\n",
       "   'ETag': '\"22d652923fcb94ac48c7c4d13243d132\"',\n",
       "   'Size': 24051216,\n",
       "   'StorageClass': 'STANDARD'},\n",
       "  {'Key': 'trusted/order_items_$folder$',\n",
       "   'LastModified': datetime.datetime(2020, 7, 20, 13, 33, 44, tzinfo=tzutc()),\n",
       "   'ETag': '\"d41d8cd98f00b204e9800998ecf8427e\"',\n",
       "   'Size': 0,\n",
       "   'StorageClass': 'STANDARD'},\n",
       "  {'Key': 'trusted/order_statuses/part-00000-da1eeb31-139d-4a0b-b6aa-927fd7d7427a-c000.snappy.parquet',\n",
       "   'LastModified': datetime.datetime(2020, 7, 20, 13, 35, 38, tzinfo=tzutc()),\n",
       "   'ETag': '\"0fee10224ed7988771fff49fb1da8b92\"',\n",
       "   'Size': 46112585,\n",
       "   'StorageClass': 'STANDARD'},\n",
       "  {'Key': 'trusted/order_statuses_$folder$',\n",
       "   'LastModified': datetime.datetime(2020, 7, 20, 13, 35, 14, tzinfo=tzutc()),\n",
       "   'ETag': '\"d41d8cd98f00b204e9800998ecf8427e\"',\n",
       "   'Size': 0,\n",
       "   'StorageClass': 'STANDARD'},\n",
       "  {'Key': 'trusted_$folder$',\n",
       "   'LastModified': datetime.datetime(2020, 7, 20, 12, 31, 45, tzinfo=tzutc()),\n",
       "   'ETag': '\"d41d8cd98f00b204e9800998ecf8427e\"',\n",
       "   'Size': 0,\n",
       "   'StorageClass': 'STANDARD'}],\n",
       " 'Name': 'ifood-data-architect-test-source-murillo',\n",
       " 'Prefix': '',\n",
       " 'MaxKeys': 1000,\n",
       " 'EncodingType': 'url',\n",
       " 'KeyCount': 60}"
      ]
     },
     "execution_count": 64,
     "metadata": {},
     "output_type": "execute_result"
    }
   ],
   "source": [
    "s3 = boto3.client('s3')\n",
    "s3.list_objects_v2(Bucket=BUCKET)"
   ]
  },
  {
   "cell_type": "code",
   "execution_count": 65,
   "metadata": {},
   "outputs": [],
   "source": [
    "def get_s3_keys(bucket):\n",
    "    \"\"\"Get a list of keys in an S3 bucket.\"\"\"\n",
    "    keys = []\n",
    "    resp = s3.list_objects_v2(Bucket=bucket)\n",
    "    for obj in resp['Contents']:\n",
    "        keys.append(obj['Key'])\n",
    "    return keys"
   ]
  },
  {
   "cell_type": "code",
   "execution_count": 114,
   "metadata": {},
   "outputs": [
    {
     "data": {
      "text/plain": [
       "5"
      ]
     },
     "execution_count": 114,
     "metadata": {},
     "output_type": "execute_result"
    }
   ],
   "source": [
    "len(\"order\")"
   ]
  },
  {
   "cell_type": "code",
   "execution_count": 127,
   "metadata": {},
   "outputs": [
    {
     "name": "stdout",
     "output_type": "stream",
     "text": [
      "\n",
      "staurant_partition=2020-07-20/part-00000-a05f8403-73e2-4816-aaf4-adc5e67265ef.c000.snappy.parquet\n",
      "staurant_partition=2020-07-20/part-00001-a05f8403-73e2-4816-aaf4-adc5e67265ef.c000.snappy.parquet\n",
      "staurant_partition=2020-07-20/part-00002-a05f8403-73e2-4816-aaf4-adc5e67265ef.c000.snappy.parquet\n",
      "staurant_partition=2020-07-20/part-00003-a05f8403-73e2-4816-aaf4-adc5e67265ef.c000.snappy.parquet\n",
      "staurant_partition=2020-07-20/part-00004-a05f8403-73e2-4816-aaf4-adc5e67265ef.c000.snappy.parquet\n",
      "staurant_partition=2020-07-20/part-00005-a05f8403-73e2-4816-aaf4-adc5e67265ef.c000.snappy.parquet\n",
      "staurant_partition=2020-07-20/part-00006-a05f8403-73e2-4816-aaf4-adc5e67265ef.c000.snappy.parquet\n",
      "staurant_partition=2020-07-20/part-00007-a05f8403-73e2-4816-aaf4-adc5e67265ef.c000.snappy.parquet\n",
      "staurant_partition=2020-07-20/part-00008-a05f8403-73e2-4816-aaf4-adc5e67265ef.c000.snappy.parquet\n",
      "staurant_partition=2020-07-20/part-00009-a05f8403-73e2-4816-aaf4-adc5e67265ef.c000.snappy.parquet\n",
      "staurant_partition=2020-07-20/part-00010-a05f8403-73e2-4816-aaf4-adc5e67265ef.c000.snappy.parquet\n",
      "staurant_partition=2020-07-20/part-00011-a05f8403-73e2-4816-aaf4-adc5e67265ef.c000.snappy.parquet\n",
      "staurant_partition=2020-07-20/part-00012-a05f8403-73e2-4816-aaf4-adc5e67265ef.c000.snappy.parquet\n",
      "staurant_partition=2020-07-20/part-00013-a05f8403-73e2-4816-aaf4-adc5e67265ef.c000.snappy.parquet\n",
      "staurant_partition=2020-07-20/part-00014-a05f8403-73e2-4816-aaf4-adc5e67265ef.c000.snappy.parquet\n",
      "staurant_partition=2020-07-20/part-00015-a05f8403-73e2-4816-aaf4-adc5e67265ef.c000.snappy.parquet\n",
      "staurant_partition=2020-07-20/part-00016-a05f8403-73e2-4816-aaf4-adc5e67265ef.c000.snappy.parquet\n",
      "staurant_partition=2020-07-20/part-00017-a05f8403-73e2-4816-aaf4-adc5e67265ef.c000.snappy.parquet\n",
      "staurant_partition=2020-07-20/part-00018-a05f8403-73e2-4816-aaf4-adc5e67265ef.c000.snappy.parquet\n",
      "staurant_partition=2020-07-20/part-00019-a05f8403-73e2-4816-aaf4-adc5e67265ef.c000.snappy.parquet\n",
      "staurant_partition=2020-07-20/part-00020-a05f8403-73e2-4816-aaf4-adc5e67265ef.c000.snappy.parquet\n",
      "staurant_partition=2020-07-20/part-00021-a05f8403-73e2-4816-aaf4-adc5e67265ef.c000.snappy.parquet\n",
      "staurant_partition=2020-07-20/part-00022-a05f8403-73e2-4816-aaf4-adc5e67265ef.c000.snappy.parquet\n",
      "staurant_partition=2020-07-20/part-00023-a05f8403-73e2-4816-aaf4-adc5e67265ef.c000.snappy.parquet\n",
      "staurant_partition=2020-07-20/part-00024-a05f8403-73e2-4816-aaf4-adc5e67265ef.c000.snappy.parquet\n",
      "staurant_partition=2020-07-20/part-00025-a05f8403-73e2-4816-aaf4-adc5e67265ef.c000.snappy.parquet\n",
      "staurant_partition=2020-07-20/part-00026-a05f8403-73e2-4816-aaf4-adc5e67265ef.c000.snappy.parquet\n",
      "staurant_partition=2020-07-20/part-00027-a05f8403-73e2-4816-aaf4-adc5e67265ef.c000.snappy.parquet\n",
      "staurant_partition=2020-07-20/part-00028-a05f8403-73e2-4816-aaf4-adc5e67265ef.c000.snappy.parquet\n",
      "staurant_partition=2020-07-20/part-00029-a05f8403-73e2-4816-aaf4-adc5e67265ef.c000.snappy.parquet\n",
      "staurant_partition=2020-07-20_$folder$\n",
      "older$\n",
      "ems/part-00000-20107f43-e2ef-4a8d-aa92-2f94dee27438-c000.snappy.parquet\n",
      "ems/part-00001-20107f43-e2ef-4a8d-aa92-2f94dee27438-c000.snappy.parquet\n",
      "ems/part-00002-20107f43-e2ef-4a8d-aa92-2f94dee27438-c000.snappy.parquet\n",
      "ems/part-00003-20107f43-e2ef-4a8d-aa92-2f94dee27438-c000.snappy.parquet\n",
      "ems/part-00004-20107f43-e2ef-4a8d-aa92-2f94dee27438-c000.snappy.parquet\n",
      "ems/part-00005-20107f43-e2ef-4a8d-aa92-2f94dee27438-c000.snappy.parquet\n",
      "ems/part-00006-20107f43-e2ef-4a8d-aa92-2f94dee27438-c000.snappy.parquet\n",
      "ems/part-00007-20107f43-e2ef-4a8d-aa92-2f94dee27438-c000.snappy.parquet\n",
      "ems/part-00008-20107f43-e2ef-4a8d-aa92-2f94dee27438-c000.snappy.parquet\n",
      "ems/part-00009-20107f43-e2ef-4a8d-aa92-2f94dee27438-c000.snappy.parquet\n",
      "ems_$folder$\n",
      "atuses/part-00000-da1eeb31-139d-4a0b-b6aa-927fd7d7427a-c000.snappy.parquet\n",
      "atuses_$folder$\n",
      "\n"
     ]
    }
   ],
   "source": [
    "keys = []\n",
    "resp = s3.list_objects_v2(Bucket=BUCKET)\n",
    "prefix = \"trusted\"\n",
    "# suffix = \"part-\"\n",
    "for obj in resp['Contents']:\n",
    "    #keys.append(obj['Key'])\n",
    "    key = obj['Key']\n",
    "    if key.startswith(prefix):\n",
    "        \n",
    "        ln = len(\"status\")\n",
    "        st = key.find(\"order\",ln)\n",
    "        #idx = key.find(\"/\",9)\n",
    "        print(key[ln+ln+4:])\n",
    "#         print(st)"
   ]
  },
  {
   "cell_type": "code",
   "execution_count": 77,
   "metadata": {},
   "outputs": [
    {
     "ename": "TypeError",
     "evalue": "find() takes no keyword arguments",
     "output_type": "error",
     "traceback": [
      "\u001b[0;31m---------------------------------------------------------------------------\u001b[0m",
      "\u001b[0;31mTypeError\u001b[0m                                 Traceback (most recent call last)",
      "\u001b[0;32m<ipython-input-77-e6b8d953432e>\u001b[0m in \u001b[0;36m<module>\u001b[0;34m\u001b[0m\n\u001b[1;32m      1\u001b[0m \u001b[0mst\u001b[0m \u001b[0;34m=\u001b[0m \u001b[0;34m'trusted/order/restaurant_partition=2020-07-20/part-00000-a05f8403-73e2-4816-aaf4-adc5e67265ef.c000.snappy.parquet'\u001b[0m\u001b[0;34m\u001b[0m\u001b[0;34m\u001b[0m\u001b[0m\n\u001b[1;32m      2\u001b[0m \u001b[0;34m\u001b[0m\u001b[0m\n\u001b[0;32m----> 3\u001b[0;31m \u001b[0mst\u001b[0m\u001b[0;34m.\u001b[0m\u001b[0mfind\u001b[0m\u001b[0;34m(\u001b[0m\u001b[0;34m\"/\"\u001b[0m\u001b[0;34m,\u001b[0m\u001b[0mstart\u001b[0m\u001b[0;34m=\u001b[0m\u001b[0;36m1\u001b[0m\u001b[0;34m)\u001b[0m\u001b[0;34m\u001b[0m\u001b[0;34m\u001b[0m\u001b[0m\n\u001b[0m",
      "\u001b[0;31mTypeError\u001b[0m: find() takes no keyword arguments"
     ]
    }
   ],
   "source": [
    "st = 'trusted/order/restaurant_partition=2020-07-20/part-00000-a05f8403-73e2-4816-aaf4-adc5e67265ef.c000.snappy.parquet'\n",
    "\n",
    "st.find(\"/\",start=1)"
   ]
  },
  {
   "cell_type": "code",
   "execution_count": 85,
   "metadata": {},
   "outputs": [],
   "source": [
    "def get_matching_s3_keys(bucket, prefix='', suffix=''):\n",
    "    \"\"\"\n",
    "    Generate the keys in an S3 bucket.\n",
    "\n",
    "    :param bucket: Name of the S3 bucket.\n",
    "    :param prefix: Only fetch keys that start with this prefix (optional).\n",
    "    :param suffix: Only fetch keys that end with this suffix (optional).\n",
    "    \"\"\"\n",
    "    s3 = boto3.client('s3')\n",
    "    kwargs = {'Bucket': bucket}\n",
    "\n",
    "    # If the prefix is a single string (not a tuple of strings), we can\n",
    "    # do the filtering directly in the S3 API.\n",
    "    if isinstance(prefix, str):\n",
    "        kwargs['Prefix'] = prefix\n",
    "\n",
    "    while True:\n",
    "\n",
    "        # The S3 API response is a large blob of metadata.\n",
    "        # 'Contents' contains information about the listed objects.\n",
    "        resp = s3.list_objects_v2(**kwargs)\n",
    "        for obj in resp['Contents']:\n",
    "            key = obj['Key']\n",
    "            if key.startswith(prefix) and key.endswith(suffix):\n",
    "                print(key)\n",
    "\n",
    "        # The S3 API is paginated, returning up to 1000 keys at a time.\n",
    "        # Pass the continuation token into the next response, until we\n",
    "        # reach the final page (when this field is missing).\n",
    "#         try:\n",
    "#             kwargs['ContinuationToken'] = resp['NextContinuationToken']\n",
    "#         except KeyError:\n",
    "#             break"
   ]
  },
  {
   "cell_type": "code",
   "execution_count": 88,
   "metadata": {},
   "outputs": [
    {
     "ename": "KeyError",
     "evalue": "'Contents'",
     "output_type": "error",
     "traceback": [
      "\u001b[0;31m---------------------------------------------------------------------------\u001b[0m",
      "\u001b[0;31mKeyError\u001b[0m                                  Traceback (most recent call last)",
      "\u001b[0;32m<ipython-input-88-ab7b7bde2628>\u001b[0m in \u001b[0;36m<module>\u001b[0;34m\u001b[0m\n\u001b[0;32m----> 1\u001b[0;31m \u001b[0mget_matching_s3_keys\u001b[0m\u001b[0;34m(\u001b[0m\u001b[0mBUCKET\u001b[0m\u001b[0;34m,\u001b[0m \u001b[0mprefix\u001b[0m\u001b[0;34m=\u001b[0m\u001b[0;34m\"order\"\u001b[0m\u001b[0;34m,\u001b[0m \u001b[0msuffix\u001b[0m\u001b[0;34m=\u001b[0m\u001b[0;34m\"/\"\u001b[0m\u001b[0;34m)\u001b[0m\u001b[0;34m\u001b[0m\u001b[0;34m\u001b[0m\u001b[0m\n\u001b[0m",
      "\u001b[0;32m<ipython-input-85-f13b0634e4fd>\u001b[0m in \u001b[0;36mget_matching_s3_keys\u001b[0;34m(bucket, prefix, suffix)\u001b[0m\n\u001b[1;32m     20\u001b[0m         \u001b[0;31m# 'Contents' contains information about the listed objects.\u001b[0m\u001b[0;34m\u001b[0m\u001b[0;34m\u001b[0m\u001b[0;34m\u001b[0m\u001b[0m\n\u001b[1;32m     21\u001b[0m         \u001b[0mresp\u001b[0m \u001b[0;34m=\u001b[0m \u001b[0ms3\u001b[0m\u001b[0;34m.\u001b[0m\u001b[0mlist_objects_v2\u001b[0m\u001b[0;34m(\u001b[0m\u001b[0;34m**\u001b[0m\u001b[0mkwargs\u001b[0m\u001b[0;34m)\u001b[0m\u001b[0;34m\u001b[0m\u001b[0;34m\u001b[0m\u001b[0m\n\u001b[0;32m---> 22\u001b[0;31m         \u001b[0;32mfor\u001b[0m \u001b[0mobj\u001b[0m \u001b[0;32min\u001b[0m \u001b[0mresp\u001b[0m\u001b[0;34m[\u001b[0m\u001b[0;34m'Contents'\u001b[0m\u001b[0;34m]\u001b[0m\u001b[0;34m:\u001b[0m\u001b[0;34m\u001b[0m\u001b[0;34m\u001b[0m\u001b[0m\n\u001b[0m\u001b[1;32m     23\u001b[0m             \u001b[0mkey\u001b[0m \u001b[0;34m=\u001b[0m \u001b[0mobj\u001b[0m\u001b[0;34m[\u001b[0m\u001b[0;34m'Key'\u001b[0m\u001b[0;34m]\u001b[0m\u001b[0;34m\u001b[0m\u001b[0;34m\u001b[0m\u001b[0m\n\u001b[1;32m     24\u001b[0m             \u001b[0;32mif\u001b[0m \u001b[0mkey\u001b[0m\u001b[0;34m.\u001b[0m\u001b[0mstartswith\u001b[0m\u001b[0;34m(\u001b[0m\u001b[0mprefix\u001b[0m\u001b[0;34m)\u001b[0m \u001b[0;32mand\u001b[0m \u001b[0mkey\u001b[0m\u001b[0;34m.\u001b[0m\u001b[0mendswith\u001b[0m\u001b[0;34m(\u001b[0m\u001b[0msuffix\u001b[0m\u001b[0;34m)\u001b[0m\u001b[0;34m:\u001b[0m\u001b[0;34m\u001b[0m\u001b[0;34m\u001b[0m\u001b[0m\n",
      "\u001b[0;31mKeyError\u001b[0m: 'Contents'"
     ]
    }
   ],
   "source": [
    "get_matching_s3_keys(BUCKET, prefix=\"order\", suffix=\"/\")"
   ]
  },
  {
   "cell_type": "code",
   "execution_count": 68,
   "metadata": {},
   "outputs": [
    {
     "data": {
      "text/plain": [
       "['raw/consumer/partition_column=2020-07-20/part-00000-d3e75e66-72b6-451f-948b-38542c601572.c000.snappy.parquet',\n",
       " 'raw/consumer/partition_column=2020-07-20_$folder$',\n",
       " 'raw/consumer_$folder$',\n",
       " 'raw/order/partition_column=2020-07-20/part-00000-5df0702b-bc9e-4622-ac30-7b8458e6127a.c000.snappy.parquet',\n",
       " 'raw/order/partition_column=2020-07-20_$folder$',\n",
       " 'raw/order_$folder$',\n",
       " 'raw/restaurant/partition_column=2020-07-20/part-00000-06771bd7-8c0a-435b-a808-938e0239f2d3.c000.snappy.parquet',\n",
       " 'raw/restaurant/partition_column=2020-07-20_$folder$',\n",
       " 'raw/restaurant_$folder$',\n",
       " 'raw/status/partition_column=2020-07-20/part-00000-7ff354c6-aa30-4e10-8061-2eed71471918.c000.snappy.parquet',\n",
       " 'raw/status/partition_column=2020-07-20_$folder$',\n",
       " 'raw/status_$folder$',\n",
       " 'raw_$folder$',\n",
       " 'trusted/',\n",
       " 'trusted/order/restaurant_partition=2020-07-20/part-00000-a05f8403-73e2-4816-aaf4-adc5e67265ef.c000.snappy.parquet',\n",
       " 'trusted/order/restaurant_partition=2020-07-20/part-00001-a05f8403-73e2-4816-aaf4-adc5e67265ef.c000.snappy.parquet',\n",
       " 'trusted/order/restaurant_partition=2020-07-20/part-00002-a05f8403-73e2-4816-aaf4-adc5e67265ef.c000.snappy.parquet',\n",
       " 'trusted/order/restaurant_partition=2020-07-20/part-00003-a05f8403-73e2-4816-aaf4-adc5e67265ef.c000.snappy.parquet',\n",
       " 'trusted/order/restaurant_partition=2020-07-20/part-00004-a05f8403-73e2-4816-aaf4-adc5e67265ef.c000.snappy.parquet',\n",
       " 'trusted/order/restaurant_partition=2020-07-20/part-00005-a05f8403-73e2-4816-aaf4-adc5e67265ef.c000.snappy.parquet',\n",
       " 'trusted/order/restaurant_partition=2020-07-20/part-00006-a05f8403-73e2-4816-aaf4-adc5e67265ef.c000.snappy.parquet',\n",
       " 'trusted/order/restaurant_partition=2020-07-20/part-00007-a05f8403-73e2-4816-aaf4-adc5e67265ef.c000.snappy.parquet',\n",
       " 'trusted/order/restaurant_partition=2020-07-20/part-00008-a05f8403-73e2-4816-aaf4-adc5e67265ef.c000.snappy.parquet',\n",
       " 'trusted/order/restaurant_partition=2020-07-20/part-00009-a05f8403-73e2-4816-aaf4-adc5e67265ef.c000.snappy.parquet',\n",
       " 'trusted/order/restaurant_partition=2020-07-20/part-00010-a05f8403-73e2-4816-aaf4-adc5e67265ef.c000.snappy.parquet',\n",
       " 'trusted/order/restaurant_partition=2020-07-20/part-00011-a05f8403-73e2-4816-aaf4-adc5e67265ef.c000.snappy.parquet',\n",
       " 'trusted/order/restaurant_partition=2020-07-20/part-00012-a05f8403-73e2-4816-aaf4-adc5e67265ef.c000.snappy.parquet',\n",
       " 'trusted/order/restaurant_partition=2020-07-20/part-00013-a05f8403-73e2-4816-aaf4-adc5e67265ef.c000.snappy.parquet',\n",
       " 'trusted/order/restaurant_partition=2020-07-20/part-00014-a05f8403-73e2-4816-aaf4-adc5e67265ef.c000.snappy.parquet',\n",
       " 'trusted/order/restaurant_partition=2020-07-20/part-00015-a05f8403-73e2-4816-aaf4-adc5e67265ef.c000.snappy.parquet',\n",
       " 'trusted/order/restaurant_partition=2020-07-20/part-00016-a05f8403-73e2-4816-aaf4-adc5e67265ef.c000.snappy.parquet',\n",
       " 'trusted/order/restaurant_partition=2020-07-20/part-00017-a05f8403-73e2-4816-aaf4-adc5e67265ef.c000.snappy.parquet',\n",
       " 'trusted/order/restaurant_partition=2020-07-20/part-00018-a05f8403-73e2-4816-aaf4-adc5e67265ef.c000.snappy.parquet',\n",
       " 'trusted/order/restaurant_partition=2020-07-20/part-00019-a05f8403-73e2-4816-aaf4-adc5e67265ef.c000.snappy.parquet',\n",
       " 'trusted/order/restaurant_partition=2020-07-20/part-00020-a05f8403-73e2-4816-aaf4-adc5e67265ef.c000.snappy.parquet',\n",
       " 'trusted/order/restaurant_partition=2020-07-20/part-00021-a05f8403-73e2-4816-aaf4-adc5e67265ef.c000.snappy.parquet',\n",
       " 'trusted/order/restaurant_partition=2020-07-20/part-00022-a05f8403-73e2-4816-aaf4-adc5e67265ef.c000.snappy.parquet',\n",
       " 'trusted/order/restaurant_partition=2020-07-20/part-00023-a05f8403-73e2-4816-aaf4-adc5e67265ef.c000.snappy.parquet',\n",
       " 'trusted/order/restaurant_partition=2020-07-20/part-00024-a05f8403-73e2-4816-aaf4-adc5e67265ef.c000.snappy.parquet',\n",
       " 'trusted/order/restaurant_partition=2020-07-20/part-00025-a05f8403-73e2-4816-aaf4-adc5e67265ef.c000.snappy.parquet',\n",
       " 'trusted/order/restaurant_partition=2020-07-20/part-00026-a05f8403-73e2-4816-aaf4-adc5e67265ef.c000.snappy.parquet',\n",
       " 'trusted/order/restaurant_partition=2020-07-20/part-00027-a05f8403-73e2-4816-aaf4-adc5e67265ef.c000.snappy.parquet',\n",
       " 'trusted/order/restaurant_partition=2020-07-20/part-00028-a05f8403-73e2-4816-aaf4-adc5e67265ef.c000.snappy.parquet',\n",
       " 'trusted/order/restaurant_partition=2020-07-20/part-00029-a05f8403-73e2-4816-aaf4-adc5e67265ef.c000.snappy.parquet',\n",
       " 'trusted/order/restaurant_partition=2020-07-20_$folder$',\n",
       " 'trusted/order_$folder$',\n",
       " 'trusted/order_items/part-00000-20107f43-e2ef-4a8d-aa92-2f94dee27438-c000.snappy.parquet',\n",
       " 'trusted/order_items/part-00001-20107f43-e2ef-4a8d-aa92-2f94dee27438-c000.snappy.parquet',\n",
       " 'trusted/order_items/part-00002-20107f43-e2ef-4a8d-aa92-2f94dee27438-c000.snappy.parquet',\n",
       " 'trusted/order_items/part-00003-20107f43-e2ef-4a8d-aa92-2f94dee27438-c000.snappy.parquet',\n",
       " 'trusted/order_items/part-00004-20107f43-e2ef-4a8d-aa92-2f94dee27438-c000.snappy.parquet',\n",
       " 'trusted/order_items/part-00005-20107f43-e2ef-4a8d-aa92-2f94dee27438-c000.snappy.parquet',\n",
       " 'trusted/order_items/part-00006-20107f43-e2ef-4a8d-aa92-2f94dee27438-c000.snappy.parquet',\n",
       " 'trusted/order_items/part-00007-20107f43-e2ef-4a8d-aa92-2f94dee27438-c000.snappy.parquet',\n",
       " 'trusted/order_items/part-00008-20107f43-e2ef-4a8d-aa92-2f94dee27438-c000.snappy.parquet',\n",
       " 'trusted/order_items/part-00009-20107f43-e2ef-4a8d-aa92-2f94dee27438-c000.snappy.parquet',\n",
       " 'trusted/order_items_$folder$',\n",
       " 'trusted/order_statuses/part-00000-da1eeb31-139d-4a0b-b6aa-927fd7d7427a-c000.snappy.parquet',\n",
       " 'trusted/order_statuses_$folder$',\n",
       " 'trusted_$folder$']"
      ]
     },
     "execution_count": 68,
     "metadata": {},
     "output_type": "execute_result"
    }
   ],
   "source": [
    "get_s3_keys(BUCKET)"
   ]
  }
 ],
 "metadata": {
  "kernelspec": {
   "display_name": "ingaia",
   "language": "python",
   "name": "ingaia"
  },
  "language_info": {
   "codemirror_mode": {
    "name": "ipython",
    "version": 3
   },
   "file_extension": ".py",
   "mimetype": "text/x-python",
   "name": "python",
   "nbconvert_exporter": "python",
   "pygments_lexer": "ipython3",
   "version": "3.7.1"
  }
 },
 "nbformat": 4,
 "nbformat_minor": 2
}
